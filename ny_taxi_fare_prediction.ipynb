{
 "cells": [
  {
   "cell_type": "markdown",
   "metadata": {},
   "source": [
    "## NYC Taxi Data Machine Learning\n",
    "\n",
    "This notebook demonstrates how to run some machine learning models on the NYC taxi data with scikit-learn machine learning models.\n",
    "\n",
    "You'll notice that some of the machine learning models take a long time to run, even when only a tiny sliver of the overall dataset is used.\n",
    "\n",
    "Machine learning is computationally expensive even when the dataset is small.\n",
    "\n",
    "Performance bottlenecks can prevent scientists from training models on large datasets.  Scientists need to leverage technologies like Dask to run these models on big data."
   ]
  },
  {
   "cell_type": "code",
   "execution_count": 30,
   "metadata": {},
   "outputs": [],
   "source": [
    "import math\n",
    "import pandas as pd\n",
    "import numpy as np\n",
    "from matplotlib import pyplot as plt\n",
    "%matplotlib inline"
   ]
  },
  {
   "cell_type": "code",
   "execution_count": 31,
   "metadata": {},
   "outputs": [],
   "source": [
    "dtype = {\n",
    "    \"payment_type\": \"UInt8\",\n",
    "    \"VendorID\": \"UInt8\",\n",
    "    \"passenger_count\": \"UInt8\",\n",
    "    \"RatecodeID\": \"UInt8\",\n",
    "    \"store_and_fwd_flag\": \"category\",\n",
    "    \"PULocationID\": \"UInt16\",\n",
    "    \"DOLocationID\": \"UInt16\",\n",
    "}"
   ]
  },
  {
   "cell_type": "code",
   "execution_count": 32,
   "metadata": {},
   "outputs": [],
   "source": [
    "path = \"/Users/powers/Downloads/yellow_tripdata_2009-01.csv\"\n",
    "train = pd.read_csv(path, nrows = 1000000, dtype=dtype, parse_dates=[\"Trip_Pickup_DateTime\"])"
   ]
  },
  {
   "cell_type": "code",
   "execution_count": 33,
   "metadata": {},
   "outputs": [
    {
     "data": {
      "text/html": [
       "<div>\n",
       "<style scoped>\n",
       "    .dataframe tbody tr th:only-of-type {\n",
       "        vertical-align: middle;\n",
       "    }\n",
       "\n",
       "    .dataframe tbody tr th {\n",
       "        vertical-align: top;\n",
       "    }\n",
       "\n",
       "    .dataframe thead th {\n",
       "        text-align: right;\n",
       "    }\n",
       "</style>\n",
       "<table border=\"1\" class=\"dataframe\">\n",
       "  <thead>\n",
       "    <tr style=\"text-align: right;\">\n",
       "      <th></th>\n",
       "      <th>vendor_name</th>\n",
       "      <th>Trip_Pickup_DateTime</th>\n",
       "      <th>Trip_Dropoff_DateTime</th>\n",
       "      <th>Passenger_Count</th>\n",
       "      <th>Trip_Distance</th>\n",
       "      <th>Start_Lon</th>\n",
       "      <th>Start_Lat</th>\n",
       "      <th>Rate_Code</th>\n",
       "      <th>store_and_forward</th>\n",
       "      <th>End_Lon</th>\n",
       "      <th>End_Lat</th>\n",
       "      <th>Payment_Type</th>\n",
       "      <th>Fare_Amt</th>\n",
       "      <th>surcharge</th>\n",
       "      <th>mta_tax</th>\n",
       "      <th>Tip_Amt</th>\n",
       "      <th>Tolls_Amt</th>\n",
       "      <th>Total_Amt</th>\n",
       "    </tr>\n",
       "  </thead>\n",
       "  <tbody>\n",
       "    <tr>\n",
       "      <th>0</th>\n",
       "      <td>VTS</td>\n",
       "      <td>2009-01-04 02:52:00</td>\n",
       "      <td>2009-01-04 03:02:00</td>\n",
       "      <td>1</td>\n",
       "      <td>2.63</td>\n",
       "      <td>-73.991957</td>\n",
       "      <td>40.721567</td>\n",
       "      <td>NaN</td>\n",
       "      <td>NaN</td>\n",
       "      <td>-73.993803</td>\n",
       "      <td>40.695922</td>\n",
       "      <td>CASH</td>\n",
       "      <td>8.9</td>\n",
       "      <td>0.5</td>\n",
       "      <td>NaN</td>\n",
       "      <td>0.00</td>\n",
       "      <td>0.0</td>\n",
       "      <td>9.40</td>\n",
       "    </tr>\n",
       "    <tr>\n",
       "      <th>1</th>\n",
       "      <td>VTS</td>\n",
       "      <td>2009-01-04 03:31:00</td>\n",
       "      <td>2009-01-04 03:38:00</td>\n",
       "      <td>3</td>\n",
       "      <td>4.55</td>\n",
       "      <td>-73.982102</td>\n",
       "      <td>40.736290</td>\n",
       "      <td>NaN</td>\n",
       "      <td>NaN</td>\n",
       "      <td>-73.955850</td>\n",
       "      <td>40.768030</td>\n",
       "      <td>Credit</td>\n",
       "      <td>12.1</td>\n",
       "      <td>0.5</td>\n",
       "      <td>NaN</td>\n",
       "      <td>2.00</td>\n",
       "      <td>0.0</td>\n",
       "      <td>14.60</td>\n",
       "    </tr>\n",
       "    <tr>\n",
       "      <th>2</th>\n",
       "      <td>VTS</td>\n",
       "      <td>2009-01-03 15:43:00</td>\n",
       "      <td>2009-01-03 15:57:00</td>\n",
       "      <td>5</td>\n",
       "      <td>10.35</td>\n",
       "      <td>-74.002587</td>\n",
       "      <td>40.739748</td>\n",
       "      <td>NaN</td>\n",
       "      <td>NaN</td>\n",
       "      <td>-73.869983</td>\n",
       "      <td>40.770225</td>\n",
       "      <td>Credit</td>\n",
       "      <td>23.7</td>\n",
       "      <td>0.0</td>\n",
       "      <td>NaN</td>\n",
       "      <td>4.74</td>\n",
       "      <td>0.0</td>\n",
       "      <td>28.44</td>\n",
       "    </tr>\n",
       "    <tr>\n",
       "      <th>3</th>\n",
       "      <td>DDS</td>\n",
       "      <td>2009-01-01 20:52:58</td>\n",
       "      <td>2009-01-01 21:14:00</td>\n",
       "      <td>1</td>\n",
       "      <td>5.00</td>\n",
       "      <td>-73.974267</td>\n",
       "      <td>40.790955</td>\n",
       "      <td>NaN</td>\n",
       "      <td>NaN</td>\n",
       "      <td>-73.996558</td>\n",
       "      <td>40.731849</td>\n",
       "      <td>CREDIT</td>\n",
       "      <td>14.9</td>\n",
       "      <td>0.5</td>\n",
       "      <td>NaN</td>\n",
       "      <td>3.05</td>\n",
       "      <td>0.0</td>\n",
       "      <td>18.45</td>\n",
       "    </tr>\n",
       "    <tr>\n",
       "      <th>4</th>\n",
       "      <td>DDS</td>\n",
       "      <td>2009-01-24 16:18:23</td>\n",
       "      <td>2009-01-24 16:24:56</td>\n",
       "      <td>1</td>\n",
       "      <td>0.40</td>\n",
       "      <td>-74.001580</td>\n",
       "      <td>40.719382</td>\n",
       "      <td>NaN</td>\n",
       "      <td>NaN</td>\n",
       "      <td>-74.008378</td>\n",
       "      <td>40.720350</td>\n",
       "      <td>CASH</td>\n",
       "      <td>3.7</td>\n",
       "      <td>0.0</td>\n",
       "      <td>NaN</td>\n",
       "      <td>0.00</td>\n",
       "      <td>0.0</td>\n",
       "      <td>3.70</td>\n",
       "    </tr>\n",
       "    <tr>\n",
       "      <th>...</th>\n",
       "      <td>...</td>\n",
       "      <td>...</td>\n",
       "      <td>...</td>\n",
       "      <td>...</td>\n",
       "      <td>...</td>\n",
       "      <td>...</td>\n",
       "      <td>...</td>\n",
       "      <td>...</td>\n",
       "      <td>...</td>\n",
       "      <td>...</td>\n",
       "      <td>...</td>\n",
       "      <td>...</td>\n",
       "      <td>...</td>\n",
       "      <td>...</td>\n",
       "      <td>...</td>\n",
       "      <td>...</td>\n",
       "      <td>...</td>\n",
       "      <td>...</td>\n",
       "    </tr>\n",
       "    <tr>\n",
       "      <th>999995</th>\n",
       "      <td>CMT</td>\n",
       "      <td>2009-01-14 19:43:31</td>\n",
       "      <td>2009-01-14 19:48:08</td>\n",
       "      <td>1</td>\n",
       "      <td>0.60</td>\n",
       "      <td>-73.985312</td>\n",
       "      <td>40.763286</td>\n",
       "      <td>NaN</td>\n",
       "      <td>NaN</td>\n",
       "      <td>-73.982215</td>\n",
       "      <td>40.771256</td>\n",
       "      <td>Cash</td>\n",
       "      <td>5.5</td>\n",
       "      <td>0.0</td>\n",
       "      <td>NaN</td>\n",
       "      <td>0.00</td>\n",
       "      <td>0.0</td>\n",
       "      <td>5.50</td>\n",
       "    </tr>\n",
       "    <tr>\n",
       "      <th>999996</th>\n",
       "      <td>CMT</td>\n",
       "      <td>2009-01-12 16:36:30</td>\n",
       "      <td>2009-01-12 16:40:43</td>\n",
       "      <td>1</td>\n",
       "      <td>0.80</td>\n",
       "      <td>-73.958948</td>\n",
       "      <td>40.780668</td>\n",
       "      <td>NaN</td>\n",
       "      <td>NaN</td>\n",
       "      <td>-73.970194</td>\n",
       "      <td>40.784173</td>\n",
       "      <td>Credit</td>\n",
       "      <td>5.9</td>\n",
       "      <td>0.0</td>\n",
       "      <td>NaN</td>\n",
       "      <td>1.00</td>\n",
       "      <td>0.0</td>\n",
       "      <td>6.90</td>\n",
       "    </tr>\n",
       "    <tr>\n",
       "      <th>999997</th>\n",
       "      <td>CMT</td>\n",
       "      <td>2009-01-12 14:16:57</td>\n",
       "      <td>2009-01-12 14:28:02</td>\n",
       "      <td>1</td>\n",
       "      <td>4.70</td>\n",
       "      <td>-73.984502</td>\n",
       "      <td>40.728968</td>\n",
       "      <td>NaN</td>\n",
       "      <td>NaN</td>\n",
       "      <td>-74.014803</td>\n",
       "      <td>40.708558</td>\n",
       "      <td>Credit</td>\n",
       "      <td>12.9</td>\n",
       "      <td>0.0</td>\n",
       "      <td>NaN</td>\n",
       "      <td>1.93</td>\n",
       "      <td>0.0</td>\n",
       "      <td>14.83</td>\n",
       "    </tr>\n",
       "    <tr>\n",
       "      <th>999998</th>\n",
       "      <td>CMT</td>\n",
       "      <td>2009-01-22 11:21:35</td>\n",
       "      <td>2009-01-22 11:37:06</td>\n",
       "      <td>1</td>\n",
       "      <td>1.50</td>\n",
       "      <td>-73.992235</td>\n",
       "      <td>40.749299</td>\n",
       "      <td>NaN</td>\n",
       "      <td>NaN</td>\n",
       "      <td>-73.982042</td>\n",
       "      <td>40.762873</td>\n",
       "      <td>Cash</td>\n",
       "      <td>9.3</td>\n",
       "      <td>0.0</td>\n",
       "      <td>NaN</td>\n",
       "      <td>0.00</td>\n",
       "      <td>0.0</td>\n",
       "      <td>9.30</td>\n",
       "    </tr>\n",
       "    <tr>\n",
       "      <th>999999</th>\n",
       "      <td>CMT</td>\n",
       "      <td>2009-01-22 08:10:24</td>\n",
       "      <td>2009-01-22 08:39:43</td>\n",
       "      <td>1</td>\n",
       "      <td>5.40</td>\n",
       "      <td>-74.008144</td>\n",
       "      <td>40.723281</td>\n",
       "      <td>NaN</td>\n",
       "      <td>NaN</td>\n",
       "      <td>-74.008787</td>\n",
       "      <td>40.715377</td>\n",
       "      <td>Cash</td>\n",
       "      <td>18.1</td>\n",
       "      <td>0.0</td>\n",
       "      <td>NaN</td>\n",
       "      <td>0.00</td>\n",
       "      <td>0.0</td>\n",
       "      <td>18.10</td>\n",
       "    </tr>\n",
       "  </tbody>\n",
       "</table>\n",
       "<p>1000000 rows × 18 columns</p>\n",
       "</div>"
      ],
      "text/plain": [
       "       vendor_name Trip_Pickup_DateTime Trip_Dropoff_DateTime  \\\n",
       "0              VTS  2009-01-04 02:52:00   2009-01-04 03:02:00   \n",
       "1              VTS  2009-01-04 03:31:00   2009-01-04 03:38:00   \n",
       "2              VTS  2009-01-03 15:43:00   2009-01-03 15:57:00   \n",
       "3              DDS  2009-01-01 20:52:58   2009-01-01 21:14:00   \n",
       "4              DDS  2009-01-24 16:18:23   2009-01-24 16:24:56   \n",
       "...            ...                  ...                   ...   \n",
       "999995         CMT  2009-01-14 19:43:31   2009-01-14 19:48:08   \n",
       "999996         CMT  2009-01-12 16:36:30   2009-01-12 16:40:43   \n",
       "999997         CMT  2009-01-12 14:16:57   2009-01-12 14:28:02   \n",
       "999998         CMT  2009-01-22 11:21:35   2009-01-22 11:37:06   \n",
       "999999         CMT  2009-01-22 08:10:24   2009-01-22 08:39:43   \n",
       "\n",
       "        Passenger_Count  Trip_Distance  Start_Lon  Start_Lat  Rate_Code  \\\n",
       "0                     1           2.63 -73.991957  40.721567        NaN   \n",
       "1                     3           4.55 -73.982102  40.736290        NaN   \n",
       "2                     5          10.35 -74.002587  40.739748        NaN   \n",
       "3                     1           5.00 -73.974267  40.790955        NaN   \n",
       "4                     1           0.40 -74.001580  40.719382        NaN   \n",
       "...                 ...            ...        ...        ...        ...   \n",
       "999995                1           0.60 -73.985312  40.763286        NaN   \n",
       "999996                1           0.80 -73.958948  40.780668        NaN   \n",
       "999997                1           4.70 -73.984502  40.728968        NaN   \n",
       "999998                1           1.50 -73.992235  40.749299        NaN   \n",
       "999999                1           5.40 -74.008144  40.723281        NaN   \n",
       "\n",
       "        store_and_forward    End_Lon    End_Lat Payment_Type  Fare_Amt  \\\n",
       "0                     NaN -73.993803  40.695922         CASH       8.9   \n",
       "1                     NaN -73.955850  40.768030       Credit      12.1   \n",
       "2                     NaN -73.869983  40.770225       Credit      23.7   \n",
       "3                     NaN -73.996558  40.731849       CREDIT      14.9   \n",
       "4                     NaN -74.008378  40.720350         CASH       3.7   \n",
       "...                   ...        ...        ...          ...       ...   \n",
       "999995                NaN -73.982215  40.771256         Cash       5.5   \n",
       "999996                NaN -73.970194  40.784173       Credit       5.9   \n",
       "999997                NaN -74.014803  40.708558       Credit      12.9   \n",
       "999998                NaN -73.982042  40.762873         Cash       9.3   \n",
       "999999                NaN -74.008787  40.715377         Cash      18.1   \n",
       "\n",
       "        surcharge  mta_tax  Tip_Amt  Tolls_Amt  Total_Amt  \n",
       "0             0.5      NaN     0.00        0.0       9.40  \n",
       "1             0.5      NaN     2.00        0.0      14.60  \n",
       "2             0.0      NaN     4.74        0.0      28.44  \n",
       "3             0.5      NaN     3.05        0.0      18.45  \n",
       "4             0.0      NaN     0.00        0.0       3.70  \n",
       "...           ...      ...      ...        ...        ...  \n",
       "999995        0.0      NaN     0.00        0.0       5.50  \n",
       "999996        0.0      NaN     1.00        0.0       6.90  \n",
       "999997        0.0      NaN     1.93        0.0      14.83  \n",
       "999998        0.0      NaN     0.00        0.0       9.30  \n",
       "999999        0.0      NaN     0.00        0.0      18.10  \n",
       "\n",
       "[1000000 rows x 18 columns]"
      ]
     },
     "execution_count": 33,
     "metadata": {},
     "output_type": "execute_result"
    }
   ],
   "source": [
    "train"
   ]
  },
  {
   "cell_type": "code",
   "execution_count": 34,
   "metadata": {},
   "outputs": [],
   "source": [
    "train = train.rename(\n",
    "  columns={\n",
    "#     \"Trip_Pickup_DateTime\": \"key\",\n",
    "    \"Fare_Amt\": \"fare_amount\", \n",
    "    \"Trip_Pickup_DateTime\": \"pickup_datetime\",\n",
    "    \"Start_Lon\": \"pickup_longitude\",\n",
    "    \"Start_Lat\": \"pickup_latitude\",\n",
    "    \"End_Lon\": \"dropoff_longitude\",\n",
    "    \"End_Lat\": \"dropoff_latitude\",\n",
    "    \"Passenger_Count\": \"passenger_count\"\n",
    "  }\n",
    ")\n",
    "\n",
    "train = train[[\"fare_amount\", \"pickup_datetime\", \"pickup_longitude\", \"pickup_latitude\", \"dropoff_longitude\", \"dropoff_latitude\", \"passenger_count\"]]"
   ]
  },
  {
   "cell_type": "code",
   "execution_count": 35,
   "metadata": {},
   "outputs": [
    {
     "data": {
      "text/html": [
       "<div>\n",
       "<style scoped>\n",
       "    .dataframe tbody tr th:only-of-type {\n",
       "        vertical-align: middle;\n",
       "    }\n",
       "\n",
       "    .dataframe tbody tr th {\n",
       "        vertical-align: top;\n",
       "    }\n",
       "\n",
       "    .dataframe thead th {\n",
       "        text-align: right;\n",
       "    }\n",
       "</style>\n",
       "<table border=\"1\" class=\"dataframe\">\n",
       "  <thead>\n",
       "    <tr style=\"text-align: right;\">\n",
       "      <th></th>\n",
       "      <th>fare_amount</th>\n",
       "      <th>pickup_datetime</th>\n",
       "      <th>pickup_longitude</th>\n",
       "      <th>pickup_latitude</th>\n",
       "      <th>dropoff_longitude</th>\n",
       "      <th>dropoff_latitude</th>\n",
       "      <th>passenger_count</th>\n",
       "    </tr>\n",
       "  </thead>\n",
       "  <tbody>\n",
       "    <tr>\n",
       "      <th>0</th>\n",
       "      <td>8.9</td>\n",
       "      <td>2009-01-04 02:52:00</td>\n",
       "      <td>-73.991957</td>\n",
       "      <td>40.721567</td>\n",
       "      <td>-73.993803</td>\n",
       "      <td>40.695922</td>\n",
       "      <td>1</td>\n",
       "    </tr>\n",
       "    <tr>\n",
       "      <th>1</th>\n",
       "      <td>12.1</td>\n",
       "      <td>2009-01-04 03:31:00</td>\n",
       "      <td>-73.982102</td>\n",
       "      <td>40.736290</td>\n",
       "      <td>-73.955850</td>\n",
       "      <td>40.768030</td>\n",
       "      <td>3</td>\n",
       "    </tr>\n",
       "    <tr>\n",
       "      <th>2</th>\n",
       "      <td>23.7</td>\n",
       "      <td>2009-01-03 15:43:00</td>\n",
       "      <td>-74.002587</td>\n",
       "      <td>40.739748</td>\n",
       "      <td>-73.869983</td>\n",
       "      <td>40.770225</td>\n",
       "      <td>5</td>\n",
       "    </tr>\n",
       "    <tr>\n",
       "      <th>3</th>\n",
       "      <td>14.9</td>\n",
       "      <td>2009-01-01 20:52:58</td>\n",
       "      <td>-73.974267</td>\n",
       "      <td>40.790955</td>\n",
       "      <td>-73.996558</td>\n",
       "      <td>40.731849</td>\n",
       "      <td>1</td>\n",
       "    </tr>\n",
       "    <tr>\n",
       "      <th>4</th>\n",
       "      <td>3.7</td>\n",
       "      <td>2009-01-24 16:18:23</td>\n",
       "      <td>-74.001580</td>\n",
       "      <td>40.719382</td>\n",
       "      <td>-74.008378</td>\n",
       "      <td>40.720350</td>\n",
       "      <td>1</td>\n",
       "    </tr>\n",
       "    <tr>\n",
       "      <th>...</th>\n",
       "      <td>...</td>\n",
       "      <td>...</td>\n",
       "      <td>...</td>\n",
       "      <td>...</td>\n",
       "      <td>...</td>\n",
       "      <td>...</td>\n",
       "      <td>...</td>\n",
       "    </tr>\n",
       "    <tr>\n",
       "      <th>999995</th>\n",
       "      <td>5.5</td>\n",
       "      <td>2009-01-14 19:43:31</td>\n",
       "      <td>-73.985312</td>\n",
       "      <td>40.763286</td>\n",
       "      <td>-73.982215</td>\n",
       "      <td>40.771256</td>\n",
       "      <td>1</td>\n",
       "    </tr>\n",
       "    <tr>\n",
       "      <th>999996</th>\n",
       "      <td>5.9</td>\n",
       "      <td>2009-01-12 16:36:30</td>\n",
       "      <td>-73.958948</td>\n",
       "      <td>40.780668</td>\n",
       "      <td>-73.970194</td>\n",
       "      <td>40.784173</td>\n",
       "      <td>1</td>\n",
       "    </tr>\n",
       "    <tr>\n",
       "      <th>999997</th>\n",
       "      <td>12.9</td>\n",
       "      <td>2009-01-12 14:16:57</td>\n",
       "      <td>-73.984502</td>\n",
       "      <td>40.728968</td>\n",
       "      <td>-74.014803</td>\n",
       "      <td>40.708558</td>\n",
       "      <td>1</td>\n",
       "    </tr>\n",
       "    <tr>\n",
       "      <th>999998</th>\n",
       "      <td>9.3</td>\n",
       "      <td>2009-01-22 11:21:35</td>\n",
       "      <td>-73.992235</td>\n",
       "      <td>40.749299</td>\n",
       "      <td>-73.982042</td>\n",
       "      <td>40.762873</td>\n",
       "      <td>1</td>\n",
       "    </tr>\n",
       "    <tr>\n",
       "      <th>999999</th>\n",
       "      <td>18.1</td>\n",
       "      <td>2009-01-22 08:10:24</td>\n",
       "      <td>-74.008144</td>\n",
       "      <td>40.723281</td>\n",
       "      <td>-74.008787</td>\n",
       "      <td>40.715377</td>\n",
       "      <td>1</td>\n",
       "    </tr>\n",
       "  </tbody>\n",
       "</table>\n",
       "<p>1000000 rows × 7 columns</p>\n",
       "</div>"
      ],
      "text/plain": [
       "        fare_amount     pickup_datetime  pickup_longitude  pickup_latitude  \\\n",
       "0               8.9 2009-01-04 02:52:00        -73.991957        40.721567   \n",
       "1              12.1 2009-01-04 03:31:00        -73.982102        40.736290   \n",
       "2              23.7 2009-01-03 15:43:00        -74.002587        40.739748   \n",
       "3              14.9 2009-01-01 20:52:58        -73.974267        40.790955   \n",
       "4               3.7 2009-01-24 16:18:23        -74.001580        40.719382   \n",
       "...             ...                 ...               ...              ...   \n",
       "999995          5.5 2009-01-14 19:43:31        -73.985312        40.763286   \n",
       "999996          5.9 2009-01-12 16:36:30        -73.958948        40.780668   \n",
       "999997         12.9 2009-01-12 14:16:57        -73.984502        40.728968   \n",
       "999998          9.3 2009-01-22 11:21:35        -73.992235        40.749299   \n",
       "999999         18.1 2009-01-22 08:10:24        -74.008144        40.723281   \n",
       "\n",
       "        dropoff_longitude  dropoff_latitude  passenger_count  \n",
       "0              -73.993803         40.695922                1  \n",
       "1              -73.955850         40.768030                3  \n",
       "2              -73.869983         40.770225                5  \n",
       "3              -73.996558         40.731849                1  \n",
       "4              -74.008378         40.720350                1  \n",
       "...                   ...               ...              ...  \n",
       "999995         -73.982215         40.771256                1  \n",
       "999996         -73.970194         40.784173                1  \n",
       "999997         -74.014803         40.708558                1  \n",
       "999998         -73.982042         40.762873                1  \n",
       "999999         -74.008787         40.715377                1  \n",
       "\n",
       "[1000000 rows x 7 columns]"
      ]
     },
     "execution_count": 35,
     "metadata": {},
     "output_type": "execute_result"
    }
   ],
   "source": [
    "train"
   ]
  },
  {
   "cell_type": "code",
   "execution_count": 2,
   "metadata": {},
   "outputs": [],
   "source": [
    "# train = pd.read_csv(\"train.csv\", nrows = 1000000)  ## the whole trainning data set is quite huge so we sample only the first 1M rows "
   ]
  },
  {
   "cell_type": "markdown",
   "metadata": {},
   "source": [
    "## Exploratory Data Analysis"
   ]
  },
  {
   "cell_type": "code",
   "execution_count": 3,
   "metadata": {},
   "outputs": [
    {
     "data": {
      "text/html": [
       "<div>\n",
       "<style scoped>\n",
       "    .dataframe tbody tr th:only-of-type {\n",
       "        vertical-align: middle;\n",
       "    }\n",
       "\n",
       "    .dataframe tbody tr th {\n",
       "        vertical-align: top;\n",
       "    }\n",
       "\n",
       "    .dataframe thead th {\n",
       "        text-align: right;\n",
       "    }\n",
       "</style>\n",
       "<table border=\"1\" class=\"dataframe\">\n",
       "  <thead>\n",
       "    <tr style=\"text-align: right;\">\n",
       "      <th></th>\n",
       "      <th>key</th>\n",
       "      <th>fare_amount</th>\n",
       "      <th>pickup_datetime</th>\n",
       "      <th>pickup_longitude</th>\n",
       "      <th>pickup_latitude</th>\n",
       "      <th>dropoff_longitude</th>\n",
       "      <th>dropoff_latitude</th>\n",
       "      <th>passenger_count</th>\n",
       "    </tr>\n",
       "  </thead>\n",
       "  <tbody>\n",
       "    <tr>\n",
       "      <th>0</th>\n",
       "      <td>2009-06-15 17:26:21.0000001</td>\n",
       "      <td>4.5</td>\n",
       "      <td>2009-06-15 17:26:21 UTC</td>\n",
       "      <td>-73.844311</td>\n",
       "      <td>40.721319</td>\n",
       "      <td>-73.841610</td>\n",
       "      <td>40.712278</td>\n",
       "      <td>1</td>\n",
       "    </tr>\n",
       "    <tr>\n",
       "      <th>1</th>\n",
       "      <td>2010-01-05 16:52:16.0000002</td>\n",
       "      <td>16.9</td>\n",
       "      <td>2010-01-05 16:52:16 UTC</td>\n",
       "      <td>-74.016048</td>\n",
       "      <td>40.711303</td>\n",
       "      <td>-73.979268</td>\n",
       "      <td>40.782004</td>\n",
       "      <td>1</td>\n",
       "    </tr>\n",
       "    <tr>\n",
       "      <th>2</th>\n",
       "      <td>2011-08-18 00:35:00.00000049</td>\n",
       "      <td>5.7</td>\n",
       "      <td>2011-08-18 00:35:00 UTC</td>\n",
       "      <td>-73.982738</td>\n",
       "      <td>40.761270</td>\n",
       "      <td>-73.991242</td>\n",
       "      <td>40.750562</td>\n",
       "      <td>2</td>\n",
       "    </tr>\n",
       "    <tr>\n",
       "      <th>3</th>\n",
       "      <td>2012-04-21 04:30:42.0000001</td>\n",
       "      <td>7.7</td>\n",
       "      <td>2012-04-21 04:30:42 UTC</td>\n",
       "      <td>-73.987130</td>\n",
       "      <td>40.733143</td>\n",
       "      <td>-73.991567</td>\n",
       "      <td>40.758092</td>\n",
       "      <td>1</td>\n",
       "    </tr>\n",
       "    <tr>\n",
       "      <th>4</th>\n",
       "      <td>2010-03-09 07:51:00.000000135</td>\n",
       "      <td>5.3</td>\n",
       "      <td>2010-03-09 07:51:00 UTC</td>\n",
       "      <td>-73.968095</td>\n",
       "      <td>40.768008</td>\n",
       "      <td>-73.956655</td>\n",
       "      <td>40.783762</td>\n",
       "      <td>1</td>\n",
       "    </tr>\n",
       "    <tr>\n",
       "      <th>5</th>\n",
       "      <td>2011-01-06 09:50:45.0000002</td>\n",
       "      <td>12.1</td>\n",
       "      <td>2011-01-06 09:50:45 UTC</td>\n",
       "      <td>-74.000964</td>\n",
       "      <td>40.731630</td>\n",
       "      <td>-73.972892</td>\n",
       "      <td>40.758233</td>\n",
       "      <td>1</td>\n",
       "    </tr>\n",
       "    <tr>\n",
       "      <th>6</th>\n",
       "      <td>2012-11-20 20:35:00.0000001</td>\n",
       "      <td>7.5</td>\n",
       "      <td>2012-11-20 20:35:00 UTC</td>\n",
       "      <td>-73.980002</td>\n",
       "      <td>40.751662</td>\n",
       "      <td>-73.973802</td>\n",
       "      <td>40.764842</td>\n",
       "      <td>1</td>\n",
       "    </tr>\n",
       "    <tr>\n",
       "      <th>7</th>\n",
       "      <td>2012-01-04 17:22:00.00000081</td>\n",
       "      <td>16.5</td>\n",
       "      <td>2012-01-04 17:22:00 UTC</td>\n",
       "      <td>-73.951300</td>\n",
       "      <td>40.774138</td>\n",
       "      <td>-73.990095</td>\n",
       "      <td>40.751048</td>\n",
       "      <td>1</td>\n",
       "    </tr>\n",
       "    <tr>\n",
       "      <th>8</th>\n",
       "      <td>2012-12-03 13:10:00.000000125</td>\n",
       "      <td>9.0</td>\n",
       "      <td>2012-12-03 13:10:00 UTC</td>\n",
       "      <td>-74.006462</td>\n",
       "      <td>40.726713</td>\n",
       "      <td>-73.993078</td>\n",
       "      <td>40.731628</td>\n",
       "      <td>1</td>\n",
       "    </tr>\n",
       "    <tr>\n",
       "      <th>9</th>\n",
       "      <td>2009-09-02 01:11:00.00000083</td>\n",
       "      <td>8.9</td>\n",
       "      <td>2009-09-02 01:11:00 UTC</td>\n",
       "      <td>-73.980658</td>\n",
       "      <td>40.733873</td>\n",
       "      <td>-73.991540</td>\n",
       "      <td>40.758138</td>\n",
       "      <td>2</td>\n",
       "    </tr>\n",
       "  </tbody>\n",
       "</table>\n",
       "</div>"
      ],
      "text/plain": [
       "                             key  fare_amount          pickup_datetime  \\\n",
       "0    2009-06-15 17:26:21.0000001          4.5  2009-06-15 17:26:21 UTC   \n",
       "1    2010-01-05 16:52:16.0000002         16.9  2010-01-05 16:52:16 UTC   \n",
       "2   2011-08-18 00:35:00.00000049          5.7  2011-08-18 00:35:00 UTC   \n",
       "3    2012-04-21 04:30:42.0000001          7.7  2012-04-21 04:30:42 UTC   \n",
       "4  2010-03-09 07:51:00.000000135          5.3  2010-03-09 07:51:00 UTC   \n",
       "5    2011-01-06 09:50:45.0000002         12.1  2011-01-06 09:50:45 UTC   \n",
       "6    2012-11-20 20:35:00.0000001          7.5  2012-11-20 20:35:00 UTC   \n",
       "7   2012-01-04 17:22:00.00000081         16.5  2012-01-04 17:22:00 UTC   \n",
       "8  2012-12-03 13:10:00.000000125          9.0  2012-12-03 13:10:00 UTC   \n",
       "9   2009-09-02 01:11:00.00000083          8.9  2009-09-02 01:11:00 UTC   \n",
       "\n",
       "   pickup_longitude  pickup_latitude  dropoff_longitude  dropoff_latitude  \\\n",
       "0        -73.844311        40.721319         -73.841610         40.712278   \n",
       "1        -74.016048        40.711303         -73.979268         40.782004   \n",
       "2        -73.982738        40.761270         -73.991242         40.750562   \n",
       "3        -73.987130        40.733143         -73.991567         40.758092   \n",
       "4        -73.968095        40.768008         -73.956655         40.783762   \n",
       "5        -74.000964        40.731630         -73.972892         40.758233   \n",
       "6        -73.980002        40.751662         -73.973802         40.764842   \n",
       "7        -73.951300        40.774138         -73.990095         40.751048   \n",
       "8        -74.006462        40.726713         -73.993078         40.731628   \n",
       "9        -73.980658        40.733873         -73.991540         40.758138   \n",
       "\n",
       "   passenger_count  \n",
       "0                1  \n",
       "1                1  \n",
       "2                2  \n",
       "3                1  \n",
       "4                1  \n",
       "5                1  \n",
       "6                1  \n",
       "7                1  \n",
       "8                1  \n",
       "9                2  "
      ]
     },
     "execution_count": 3,
     "metadata": {},
     "output_type": "execute_result"
    }
   ],
   "source": [
    "train.head(10)"
   ]
  },
  {
   "cell_type": "code",
   "execution_count": 36,
   "metadata": {},
   "outputs": [
    {
     "name": "stdout",
     "output_type": "stream",
     "text": [
      "<class 'pandas.core.frame.DataFrame'>\n",
      "RangeIndex: 1000000 entries, 0 to 999999\n",
      "Data columns (total 7 columns):\n",
      " #   Column             Non-Null Count    Dtype         \n",
      "---  ------             --------------    -----         \n",
      " 0   fare_amount        1000000 non-null  float64       \n",
      " 1   pickup_datetime    1000000 non-null  datetime64[ns]\n",
      " 2   pickup_longitude   1000000 non-null  float64       \n",
      " 3   pickup_latitude    1000000 non-null  float64       \n",
      " 4   dropoff_longitude  1000000 non-null  float64       \n",
      " 5   dropoff_latitude   1000000 non-null  float64       \n",
      " 6   passenger_count    1000000 non-null  int64         \n",
      "dtypes: datetime64[ns](1), float64(5), int64(1)\n",
      "memory usage: 53.4 MB\n"
     ]
    }
   ],
   "source": [
    "train.info()"
   ]
  },
  {
   "cell_type": "markdown",
   "metadata": {},
   "source": [
    "Since there are only 10 missing data in dropoff coordinates, dropping them off won't make any impact to our model. "
   ]
  },
  {
   "cell_type": "code",
   "execution_count": 37,
   "metadata": {},
   "outputs": [],
   "source": [
    "train = train.dropna()"
   ]
  },
  {
   "cell_type": "markdown",
   "metadata": {},
   "source": [
    "Convert pickup_datetime to datetime class and extract year, day of week and hour data to see if we can find some patterns."
   ]
  },
  {
   "cell_type": "code",
   "execution_count": 38,
   "metadata": {},
   "outputs": [],
   "source": [
    "train[\"pickup_datetime\"] = pd.to_datetime(train[\"pickup_datetime\"])\n",
    "train[\"pickup_year\"] = train[\"pickup_datetime\"].dt.year\n",
    "train[\"pickup_dow\"] = train[\"pickup_datetime\"].dt.dayofweek\n",
    "train[\"pickup_hour\"] = train[\"pickup_datetime\"].dt.hour"
   ]
  },
  {
   "cell_type": "code",
   "execution_count": 39,
   "metadata": {},
   "outputs": [
    {
     "data": {
      "text/html": [
       "<div>\n",
       "<style scoped>\n",
       "    .dataframe tbody tr th:only-of-type {\n",
       "        vertical-align: middle;\n",
       "    }\n",
       "\n",
       "    .dataframe tbody tr th {\n",
       "        vertical-align: top;\n",
       "    }\n",
       "\n",
       "    .dataframe thead th {\n",
       "        text-align: right;\n",
       "    }\n",
       "</style>\n",
       "<table border=\"1\" class=\"dataframe\">\n",
       "  <thead>\n",
       "    <tr style=\"text-align: right;\">\n",
       "      <th></th>\n",
       "      <th>fare_amount</th>\n",
       "      <th>pickup_datetime</th>\n",
       "      <th>pickup_longitude</th>\n",
       "      <th>pickup_latitude</th>\n",
       "      <th>dropoff_longitude</th>\n",
       "      <th>dropoff_latitude</th>\n",
       "      <th>passenger_count</th>\n",
       "      <th>pickup_year</th>\n",
       "      <th>pickup_dow</th>\n",
       "      <th>pickup_hour</th>\n",
       "    </tr>\n",
       "  </thead>\n",
       "  <tbody>\n",
       "    <tr>\n",
       "      <th>0</th>\n",
       "      <td>8.9</td>\n",
       "      <td>2009-01-04 02:52:00</td>\n",
       "      <td>-73.991957</td>\n",
       "      <td>40.721567</td>\n",
       "      <td>-73.993803</td>\n",
       "      <td>40.695922</td>\n",
       "      <td>1</td>\n",
       "      <td>2009</td>\n",
       "      <td>6</td>\n",
       "      <td>2</td>\n",
       "    </tr>\n",
       "    <tr>\n",
       "      <th>1</th>\n",
       "      <td>12.1</td>\n",
       "      <td>2009-01-04 03:31:00</td>\n",
       "      <td>-73.982102</td>\n",
       "      <td>40.736290</td>\n",
       "      <td>-73.955850</td>\n",
       "      <td>40.768030</td>\n",
       "      <td>3</td>\n",
       "      <td>2009</td>\n",
       "      <td>6</td>\n",
       "      <td>3</td>\n",
       "    </tr>\n",
       "    <tr>\n",
       "      <th>2</th>\n",
       "      <td>23.7</td>\n",
       "      <td>2009-01-03 15:43:00</td>\n",
       "      <td>-74.002587</td>\n",
       "      <td>40.739748</td>\n",
       "      <td>-73.869983</td>\n",
       "      <td>40.770225</td>\n",
       "      <td>5</td>\n",
       "      <td>2009</td>\n",
       "      <td>5</td>\n",
       "      <td>15</td>\n",
       "    </tr>\n",
       "    <tr>\n",
       "      <th>3</th>\n",
       "      <td>14.9</td>\n",
       "      <td>2009-01-01 20:52:58</td>\n",
       "      <td>-73.974267</td>\n",
       "      <td>40.790955</td>\n",
       "      <td>-73.996558</td>\n",
       "      <td>40.731849</td>\n",
       "      <td>1</td>\n",
       "      <td>2009</td>\n",
       "      <td>3</td>\n",
       "      <td>20</td>\n",
       "    </tr>\n",
       "    <tr>\n",
       "      <th>4</th>\n",
       "      <td>3.7</td>\n",
       "      <td>2009-01-24 16:18:23</td>\n",
       "      <td>-74.001580</td>\n",
       "      <td>40.719382</td>\n",
       "      <td>-74.008378</td>\n",
       "      <td>40.720350</td>\n",
       "      <td>1</td>\n",
       "      <td>2009</td>\n",
       "      <td>5</td>\n",
       "      <td>16</td>\n",
       "    </tr>\n",
       "    <tr>\n",
       "      <th>...</th>\n",
       "      <td>...</td>\n",
       "      <td>...</td>\n",
       "      <td>...</td>\n",
       "      <td>...</td>\n",
       "      <td>...</td>\n",
       "      <td>...</td>\n",
       "      <td>...</td>\n",
       "      <td>...</td>\n",
       "      <td>...</td>\n",
       "      <td>...</td>\n",
       "    </tr>\n",
       "    <tr>\n",
       "      <th>999995</th>\n",
       "      <td>5.5</td>\n",
       "      <td>2009-01-14 19:43:31</td>\n",
       "      <td>-73.985312</td>\n",
       "      <td>40.763286</td>\n",
       "      <td>-73.982215</td>\n",
       "      <td>40.771256</td>\n",
       "      <td>1</td>\n",
       "      <td>2009</td>\n",
       "      <td>2</td>\n",
       "      <td>19</td>\n",
       "    </tr>\n",
       "    <tr>\n",
       "      <th>999996</th>\n",
       "      <td>5.9</td>\n",
       "      <td>2009-01-12 16:36:30</td>\n",
       "      <td>-73.958948</td>\n",
       "      <td>40.780668</td>\n",
       "      <td>-73.970194</td>\n",
       "      <td>40.784173</td>\n",
       "      <td>1</td>\n",
       "      <td>2009</td>\n",
       "      <td>0</td>\n",
       "      <td>16</td>\n",
       "    </tr>\n",
       "    <tr>\n",
       "      <th>999997</th>\n",
       "      <td>12.9</td>\n",
       "      <td>2009-01-12 14:16:57</td>\n",
       "      <td>-73.984502</td>\n",
       "      <td>40.728968</td>\n",
       "      <td>-74.014803</td>\n",
       "      <td>40.708558</td>\n",
       "      <td>1</td>\n",
       "      <td>2009</td>\n",
       "      <td>0</td>\n",
       "      <td>14</td>\n",
       "    </tr>\n",
       "    <tr>\n",
       "      <th>999998</th>\n",
       "      <td>9.3</td>\n",
       "      <td>2009-01-22 11:21:35</td>\n",
       "      <td>-73.992235</td>\n",
       "      <td>40.749299</td>\n",
       "      <td>-73.982042</td>\n",
       "      <td>40.762873</td>\n",
       "      <td>1</td>\n",
       "      <td>2009</td>\n",
       "      <td>3</td>\n",
       "      <td>11</td>\n",
       "    </tr>\n",
       "    <tr>\n",
       "      <th>999999</th>\n",
       "      <td>18.1</td>\n",
       "      <td>2009-01-22 08:10:24</td>\n",
       "      <td>-74.008144</td>\n",
       "      <td>40.723281</td>\n",
       "      <td>-74.008787</td>\n",
       "      <td>40.715377</td>\n",
       "      <td>1</td>\n",
       "      <td>2009</td>\n",
       "      <td>3</td>\n",
       "      <td>8</td>\n",
       "    </tr>\n",
       "  </tbody>\n",
       "</table>\n",
       "<p>1000000 rows × 10 columns</p>\n",
       "</div>"
      ],
      "text/plain": [
       "        fare_amount     pickup_datetime  pickup_longitude  pickup_latitude  \\\n",
       "0               8.9 2009-01-04 02:52:00        -73.991957        40.721567   \n",
       "1              12.1 2009-01-04 03:31:00        -73.982102        40.736290   \n",
       "2              23.7 2009-01-03 15:43:00        -74.002587        40.739748   \n",
       "3              14.9 2009-01-01 20:52:58        -73.974267        40.790955   \n",
       "4               3.7 2009-01-24 16:18:23        -74.001580        40.719382   \n",
       "...             ...                 ...               ...              ...   \n",
       "999995          5.5 2009-01-14 19:43:31        -73.985312        40.763286   \n",
       "999996          5.9 2009-01-12 16:36:30        -73.958948        40.780668   \n",
       "999997         12.9 2009-01-12 14:16:57        -73.984502        40.728968   \n",
       "999998          9.3 2009-01-22 11:21:35        -73.992235        40.749299   \n",
       "999999         18.1 2009-01-22 08:10:24        -74.008144        40.723281   \n",
       "\n",
       "        dropoff_longitude  dropoff_latitude  passenger_count  pickup_year  \\\n",
       "0              -73.993803         40.695922                1         2009   \n",
       "1              -73.955850         40.768030                3         2009   \n",
       "2              -73.869983         40.770225                5         2009   \n",
       "3              -73.996558         40.731849                1         2009   \n",
       "4              -74.008378         40.720350                1         2009   \n",
       "...                   ...               ...              ...          ...   \n",
       "999995         -73.982215         40.771256                1         2009   \n",
       "999996         -73.970194         40.784173                1         2009   \n",
       "999997         -74.014803         40.708558                1         2009   \n",
       "999998         -73.982042         40.762873                1         2009   \n",
       "999999         -74.008787         40.715377                1         2009   \n",
       "\n",
       "        pickup_dow  pickup_hour  \n",
       "0                6            2  \n",
       "1                6            3  \n",
       "2                5           15  \n",
       "3                3           20  \n",
       "4                5           16  \n",
       "...            ...          ...  \n",
       "999995           2           19  \n",
       "999996           0           16  \n",
       "999997           0           14  \n",
       "999998           3           11  \n",
       "999999           3            8  \n",
       "\n",
       "[1000000 rows x 10 columns]"
      ]
     },
     "execution_count": 39,
     "metadata": {},
     "output_type": "execute_result"
    }
   ],
   "source": [
    "train"
   ]
  },
  {
   "cell_type": "markdown",
   "metadata": {},
   "source": [
    "Average taxi fare ramped up year over year but closed to saturate in 2015, it seems that year can be a good feature to predict fare. "
   ]
  },
  {
   "cell_type": "code",
   "execution_count": 42,
   "metadata": {},
   "outputs": [
    {
     "data": {
      "text/plain": [
       "<AxesSubplot:xlabel='pickup_dow'>"
      ]
     },
     "execution_count": 42,
     "metadata": {},
     "output_type": "execute_result"
    },
    {
     "data": {
      "image/png": "[encoded data removed]",
      "text/plain": [
       "<Figure size 432x288 with 1 Axes>"
      ]
     },
     "metadata": {
      "needs_background": "light"
     },
     "output_type": "display_data"
    }
   ],
   "source": [
    "train.groupby(\"pickup_dow\")[\"fare_amount\"].mean().plot()"
   ]
  },
  {
   "cell_type": "markdown",
   "metadata": {},
   "source": [
    "Average fare hits the lowest on Friday and hikes up on Saturday."
   ]
  },
  {
   "cell_type": "code",
   "execution_count": 43,
   "metadata": {},
   "outputs": [
    {
     "data": {
      "text/plain": [
       "<AxesSubplot:xlabel='pickup_hour'>"
      ]
     },
     "execution_count": 43,
     "metadata": {},
     "output_type": "execute_result"
    },
    {
     "data": {
      "image/png": "[encoded data removed]",
      "text/plain": [
       "<Figure size 432x288 with 1 Axes>"
      ]
     },
     "metadata": {
      "needs_background": "light"
     },
     "output_type": "display_data"
    }
   ],
   "source": [
    "train.groupby(\"pickup_hour\")[\"fare_amount\"].mean().plot()"
   ]
  },
  {
   "cell_type": "markdown",
   "metadata": {},
   "source": [
    "Taxi fare has 3 peaks in a day, 4-6, 14-16 and 23-1. Fare tends to go up in after-midnight which could due to surcharge or the fact that public transportations are closed so commuters have to hire taxi instead even for long trip."
   ]
  },
  {
   "cell_type": "markdown",
   "metadata": {},
   "source": [
    "Next we are curious about to what extent travel distance is relevent to taxi fare so we calculate line distance between pickup and dropoff point. We convert coordinate to distance in km because latitude and longitude have different distance(one degree of lat = 111km; one degree of long = 85km)."
   ]
  },
  {
   "cell_type": "code",
   "execution_count": 44,
   "metadata": {},
   "outputs": [],
   "source": [
    "train[\"move_latitude\"] = (train[\"dropoff_latitude\"] - train[\"pickup_latitude\"]) * 111\n",
    "train[\"move_longitude\"] = (train[\"dropoff_longitude\"] - train[\"pickup_longitude\"]) * 85\n",
    "train[\"abs_distance\"] = np.hypot(train[\"move_latitude\"], train[\"move_longitude\"])"
   ]
  },
  {
   "cell_type": "code",
   "execution_count": 45,
   "metadata": {},
   "outputs": [
    {
     "data": {
      "text/plain": [
       "<matplotlib.collections.PathCollection at 0x7ff036d21a50>"
      ]
     },
     "execution_count": 45,
     "metadata": {},
     "output_type": "execute_result"
    },
    {
     "data": {
      "image/png": "[encoded data removed]",
      "text/plain": [
       "<Figure size 432x288 with 1 Axes>"
      ]
     },
     "metadata": {
      "needs_background": "light"
     },
     "output_type": "display_data"
    }
   ],
   "source": [
    "plt.scatter(train[\"abs_distance\"], train[\"fare_amount\"])"
   ]
  },
  {
   "cell_type": "markdown",
   "metadata": {},
   "source": [
    "It seems that distance and fare have week correlation but we see some of the travel distance are unfairly long, they might be outside of NYC already."
   ]
  },
  {
   "cell_type": "code",
   "execution_count": 46,
   "metadata": {},
   "outputs": [
    {
     "data": {
      "text/plain": [
       "<matplotlib.collections.PathCollection at 0x7fefc618bfd0>"
      ]
     },
     "execution_count": 46,
     "metadata": {},
     "output_type": "execute_result"
    },
    {
     "data": {
      "image/png": "[encoded data removed]",
      "text/plain": [
       "<Figure size 432x288 with 1 Axes>"
      ]
     },
     "metadata": {
      "needs_background": "light"
     },
     "output_type": "display_data"
    }
   ],
   "source": [
    "plt.scatter(train[\"pickup_longitude\"], train[\"pickup_latitude\"])"
   ]
  },
  {
   "cell_type": "markdown",
   "metadata": {},
   "source": [
    "From the pickup coordinates plot, indeed there are some data points are unrealistic that we need to clean up.  \n",
    "The coordinates of NYC is (-73.9, 40.7) and we expect pickup coordinates to be within one degree of NYC."
   ]
  },
  {
   "cell_type": "code",
   "execution_count": 47,
   "metadata": {},
   "outputs": [
    {
     "data": {
      "text/html": [
       "<div>\n",
       "<style scoped>\n",
       "    .dataframe tbody tr th:only-of-type {\n",
       "        vertical-align: middle;\n",
       "    }\n",
       "\n",
       "    .dataframe tbody tr th {\n",
       "        vertical-align: top;\n",
       "    }\n",
       "\n",
       "    .dataframe thead th {\n",
       "        text-align: right;\n",
       "    }\n",
       "</style>\n",
       "<table border=\"1\" class=\"dataframe\">\n",
       "  <thead>\n",
       "    <tr style=\"text-align: right;\">\n",
       "      <th></th>\n",
       "      <th>fare_amount</th>\n",
       "      <th>pickup_longitude</th>\n",
       "      <th>pickup_latitude</th>\n",
       "      <th>dropoff_longitude</th>\n",
       "      <th>dropoff_latitude</th>\n",
       "      <th>passenger_count</th>\n",
       "      <th>pickup_year</th>\n",
       "      <th>pickup_dow</th>\n",
       "      <th>pickup_hour</th>\n",
       "      <th>move_latitude</th>\n",
       "      <th>move_longitude</th>\n",
       "      <th>abs_distance</th>\n",
       "    </tr>\n",
       "  </thead>\n",
       "  <tbody>\n",
       "    <tr>\n",
       "      <th>count</th>\n",
       "      <td>1000000.000000</td>\n",
       "      <td>1000000.000000</td>\n",
       "      <td>1000000.000000</td>\n",
       "      <td>1000000.000000</td>\n",
       "      <td>1000000.000000</td>\n",
       "      <td>1000000.000000</td>\n",
       "      <td>1000000.0</td>\n",
       "      <td>1000000.000000</td>\n",
       "      <td>1000000.00000</td>\n",
       "      <td>1000000.000000</td>\n",
       "      <td>1000000.000000</td>\n",
       "      <td>1000000.000000</td>\n",
       "    </tr>\n",
       "    <tr>\n",
       "      <th>mean</th>\n",
       "      <td>9.509305</td>\n",
       "      <td>-72.854071</td>\n",
       "      <td>40.136485</td>\n",
       "      <td>-72.872051</td>\n",
       "      <td>40.146706</td>\n",
       "      <td>1.716341</td>\n",
       "      <td>2009.0</td>\n",
       "      <td>3.173156</td>\n",
       "      <td>13.66919</td>\n",
       "      <td>1.134570</td>\n",
       "      <td>-1.528288</td>\n",
       "      <td>5.805853</td>\n",
       "    </tr>\n",
       "    <tr>\n",
       "      <th>std</th>\n",
       "      <td>7.204505</td>\n",
       "      <td>9.036628</td>\n",
       "      <td>4.991860</td>\n",
       "      <td>8.960220</td>\n",
       "      <td>4.936660</td>\n",
       "      <td>1.278965</td>\n",
       "      <td>0.0</td>\n",
       "      <td>1.884256</td>\n",
       "      <td>6.44146</td>\n",
       "      <td>93.872869</td>\n",
       "      <td>118.118614</td>\n",
       "      <td>150.778106</td>\n",
       "    </tr>\n",
       "    <tr>\n",
       "      <th>min</th>\n",
       "      <td>2.500000</td>\n",
       "      <td>-83.432169</td>\n",
       "      <td>-0.070208</td>\n",
       "      <td>-83.432169</td>\n",
       "      <td>-0.063655</td>\n",
       "      <td>0.000000</td>\n",
       "      <td>2009.0</td>\n",
       "      <td>0.000000</td>\n",
       "      <td>0.00000</td>\n",
       "      <td>-40889.907717</td>\n",
       "      <td>-6401.079530</td>\n",
       "      <td>0.000000</td>\n",
       "    </tr>\n",
       "    <tr>\n",
       "      <th>25%</th>\n",
       "      <td>5.400000</td>\n",
       "      <td>-73.991463</td>\n",
       "      <td>40.736417</td>\n",
       "      <td>-73.990974</td>\n",
       "      <td>40.735454</td>\n",
       "      <td>1.000000</td>\n",
       "      <td>2009.0</td>\n",
       "      <td>2.000000</td>\n",
       "      <td>9.00000</td>\n",
       "      <td>-1.411698</td>\n",
       "      <td>-0.903125</td>\n",
       "      <td>1.145508</td>\n",
       "    </tr>\n",
       "    <tr>\n",
       "      <th>50%</th>\n",
       "      <td>7.300000</td>\n",
       "      <td>-73.981423</td>\n",
       "      <td>40.753958</td>\n",
       "      <td>-73.979780</td>\n",
       "      <td>40.754256</td>\n",
       "      <td>1.000000</td>\n",
       "      <td>2009.0</td>\n",
       "      <td>3.000000</td>\n",
       "      <td>15.00000</td>\n",
       "      <td>0.000000</td>\n",
       "      <td>0.026180</td>\n",
       "      <td>1.981049</td>\n",
       "    </tr>\n",
       "    <tr>\n",
       "      <th>75%</th>\n",
       "      <td>10.600000</td>\n",
       "      <td>-73.967456</td>\n",
       "      <td>40.768135</td>\n",
       "      <td>-73.964072</td>\n",
       "      <td>40.769249</td>\n",
       "      <td>2.000000</td>\n",
       "      <td>2009.0</td>\n",
       "      <td>5.000000</td>\n",
       "      <td>19.00000</td>\n",
       "      <td>1.439448</td>\n",
       "      <td>1.087065</td>\n",
       "      <td>3.564567</td>\n",
       "    </tr>\n",
       "    <tr>\n",
       "      <th>max</th>\n",
       "      <td>200.000000</td>\n",
       "      <td>0.031645</td>\n",
       "      <td>409.133332</td>\n",
       "      <td>0.032062</td>\n",
       "      <td>81.535005</td>\n",
       "      <td>6.000000</td>\n",
       "      <td>2009.0</td>\n",
       "      <td>6.000000</td>\n",
       "      <td>23.00000</td>\n",
       "      <td>4535.760588</td>\n",
       "      <td>6297.819660</td>\n",
       "      <td>40889.907726</td>\n",
       "    </tr>\n",
       "  </tbody>\n",
       "</table>\n",
       "</div>"
      ],
      "text/plain": [
       "          fare_amount  pickup_longitude  pickup_latitude  dropoff_longitude  \\\n",
       "count  1000000.000000    1000000.000000   1000000.000000     1000000.000000   \n",
       "mean         9.509305        -72.854071        40.136485         -72.872051   \n",
       "std          7.204505          9.036628         4.991860           8.960220   \n",
       "min          2.500000        -83.432169        -0.070208         -83.432169   \n",
       "25%          5.400000        -73.991463        40.736417         -73.990974   \n",
       "50%          7.300000        -73.981423        40.753958         -73.979780   \n",
       "75%         10.600000        -73.967456        40.768135         -73.964072   \n",
       "max        200.000000          0.031645       409.133332           0.032062   \n",
       "\n",
       "       dropoff_latitude  passenger_count  pickup_year      pickup_dow  \\\n",
       "count    1000000.000000   1000000.000000    1000000.0  1000000.000000   \n",
       "mean          40.146706         1.716341       2009.0        3.173156   \n",
       "std            4.936660         1.278965          0.0        1.884256   \n",
       "min           -0.063655         0.000000       2009.0        0.000000   \n",
       "25%           40.735454         1.000000       2009.0        2.000000   \n",
       "50%           40.754256         1.000000       2009.0        3.000000   \n",
       "75%           40.769249         2.000000       2009.0        5.000000   \n",
       "max           81.535005         6.000000       2009.0        6.000000   \n",
       "\n",
       "         pickup_hour   move_latitude  move_longitude    abs_distance  \n",
       "count  1000000.00000  1000000.000000  1000000.000000  1000000.000000  \n",
       "mean        13.66919        1.134570       -1.528288        5.805853  \n",
       "std          6.44146       93.872869      118.118614      150.778106  \n",
       "min          0.00000   -40889.907717    -6401.079530        0.000000  \n",
       "25%          9.00000       -1.411698       -0.903125        1.145508  \n",
       "50%         15.00000        0.000000        0.026180        1.981049  \n",
       "75%         19.00000        1.439448        1.087065        3.564567  \n",
       "max         23.00000     4535.760588     6297.819660    40889.907726  "
      ]
     },
     "execution_count": 47,
     "metadata": {},
     "output_type": "execute_result"
    }
   ],
   "source": [
    "train.describe()"
   ]
  },
  {
   "cell_type": "markdown",
   "metadata": {},
   "source": [
    "There are three parts of abnormal data that we need to drop off before proceeding the analysis  \n",
    "a. pickup coordinates are not within one degree of NYC(-73.9, 40.7)  \n",
    "b. travel distance greater than 100 km  \n",
    "c. zero or negative fare amount"
   ]
  },
  {
   "cell_type": "code",
   "execution_count": 48,
   "metadata": {},
   "outputs": [],
   "source": [
    "train = train[train[\"fare_amount\"] > 0]\n",
    "\n",
    "longtitude_range = (train[\"pickup_longitude\"] <= -73.4) & (train[\"pickup_longitude\"]  >= -74.4)\n",
    "latitude_range = (train[\"pickup_latitude\"] <= 41.2) & (train[\"pickup_latitude\"] >= 40.2)\n",
    "train_trim = train[longtitude_range & latitude_range]\n",
    "\n",
    "train_trim = train_trim[(train_trim[\"abs_distance\"] < 100) & (train_trim[\"abs_distance\"] > 0)]"
   ]
  },
  {
   "cell_type": "code",
   "execution_count": 49,
   "metadata": {},
   "outputs": [
    {
     "data": {
      "text/plain": [
       "0.971816"
      ]
     },
     "execution_count": 49,
     "metadata": {},
     "output_type": "execute_result"
    }
   ],
   "source": [
    "train_trim.shape[0]/train.shape[0]"
   ]
  },
  {
   "cell_type": "markdown",
   "metadata": {},
   "source": [
    "After trimmed out all the abnormal data, we still have around 97% of data left."
   ]
  },
  {
   "cell_type": "code",
   "execution_count": 50,
   "metadata": {},
   "outputs": [
    {
     "data": {
      "text/plain": [
       "<matplotlib.colorbar.Colorbar at 0x7ff0313ca6d0>"
      ]
     },
     "execution_count": 50,
     "metadata": {},
     "output_type": "execute_result"
    },
    {
     "data": {
      "image/png": "[encoded data removed]",
      "text/plain": [
       "<Figure size 432x288 with 2 Axes>"
      ]
     },
     "metadata": {
      "needs_background": "light"
     },
     "output_type": "display_data"
    }
   ],
   "source": [
    "sc = plt.scatter(train_trim[\"pickup_longitude\"], train_trim[\"pickup_latitude\"], c = train_trim[\"fare_amount\"], cmap = \"summer\")\n",
    "plt.colorbar(sc)"
   ]
  },
  {
   "cell_type": "markdown",
   "metadata": {},
   "source": [
    "Unfortunately, by plotting out pickup coordinates with color representing fare amount we're still not able to see clear boundries seperating areas with different level of taxi fare."
   ]
  },
  {
   "cell_type": "code",
   "execution_count": 17,
   "metadata": {},
   "outputs": [
    {
     "data": {
      "text/plain": [
       "<matplotlib.collections.PathCollection at 0x1254094e0>"
      ]
     },
     "execution_count": 17,
     "metadata": {},
     "output_type": "execute_result"
    },
    {
     "data": {
      "image/png": "[encoded data removed]",
      "text/plain": [
       "<Figure size 432x288 with 1 Axes>"
      ]
     },
     "metadata": {
      "needs_background": "light"
     },
     "output_type": "display_data"
    }
   ],
   "source": [
    "plt.scatter(train_trim[\"abs_distance\"], train_trim[\"fare_amount\"])"
   ]
  },
  {
   "cell_type": "markdown",
   "metadata": {},
   "source": [
    "After clearing abnormal data, the correlationship between travel distance and fare becomes more clear. We print out correlation coefficient of fare_amount and other variables at below, it shows 0.86 for abs_distance which is very high. Other medium-highly correlated variables are pickup_longitude and dropoff_longitude, can be explained that traveling from/to the east side of NYC would have higher taxi cost."
   ]
  },
  {
   "cell_type": "code",
   "execution_count": 18,
   "metadata": {},
   "outputs": [
    {
     "data": {
      "text/plain": [
       "fare_amount          1.000000\n",
       "abs_distance         0.863739\n",
       "pickup_longitude     0.426462\n",
       "dropoff_longitude    0.317211\n",
       "pickup_year          0.118346\n",
       "move_latitude        0.017087\n",
       "passenger_count      0.015063\n",
       "pickup_dow           0.002513\n",
       "pickup_hour         -0.019109\n",
       "move_longitude      -0.090367\n",
       "dropoff_latitude    -0.163379\n",
       "pickup_latitude     -0.208793\n",
       "Name: fare_amount, dtype: float64"
      ]
     },
     "execution_count": 18,
     "metadata": {},
     "output_type": "execute_result"
    }
   ],
   "source": [
    "train_trim.corr()[\"fare_amount\"].sort_values(ascending = False)"
   ]
  },
  {
   "cell_type": "code",
   "execution_count": 19,
   "metadata": {},
   "outputs": [
    {
     "data": {
      "text/plain": [
       "<matplotlib.collections.PathCollection at 0x123e176d8>"
      ]
     },
     "execution_count": 19,
     "metadata": {},
     "output_type": "execute_result"
    },
    {
     "data": {
      "image/png": "[encoded data removed]",
      "text/plain": [
       "<Figure size 432x288 with 1 Axes>"
      ]
     },
     "metadata": {
      "needs_background": "light"
     },
     "output_type": "display_data"
    }
   ],
   "source": [
    "plt.scatter(train_trim[\"pickup_longitude\"], train_trim[\"fare_amount\"])"
   ]
  },
  {
   "cell_type": "markdown",
   "metadata": {},
   "source": [
    "Lastly we want to check whether travel orientation contributes to taxi fare so we categorize the data into east/west and north/south."
   ]
  },
  {
   "cell_type": "code",
   "execution_count": 51,
   "metadata": {},
   "outputs": [],
   "source": [
    "train_trim[\"toward_east\"] = train_trim[\"move_longitude\"] > 0\n",
    "train_trim[\"toward_north\"] = train_trim[\"move_latitude\"] > 0"
   ]
  },
  {
   "cell_type": "code",
   "execution_count": 52,
   "metadata": {},
   "outputs": [
    {
     "data": {
      "text/plain": [
       "<AxesSubplot:title={'center':'fare_amount'}, xlabel='toward_east'>"
      ]
     },
     "execution_count": 52,
     "metadata": {},
     "output_type": "execute_result"
    },
    {
     "data": {
      "image/png": "[encoded data removed]",
      "text/plain": [
       "<Figure size 432x288 with 1 Axes>"
      ]
     },
     "metadata": {
      "needs_background": "light"
     },
     "output_type": "display_data"
    }
   ],
   "source": [
    "train_trim.boxplot(column = [\"fare_amount\"], by = \"toward_east\", showfliers = False)"
   ]
  },
  {
   "cell_type": "code",
   "execution_count": 53,
   "metadata": {},
   "outputs": [
    {
     "data": {
      "text/plain": [
       "<AxesSubplot:title={'center':'fare_amount'}, xlabel='toward_north'>"
      ]
     },
     "execution_count": 53,
     "metadata": {},
     "output_type": "execute_result"
    },
    {
     "data": {
      "image/png": "[encoded data removed]",
      "text/plain": [
       "<Figure size 432x288 with 1 Axes>"
      ]
     },
     "metadata": {
      "needs_background": "light"
     },
     "output_type": "display_data"
    }
   ],
   "source": [
    "train_trim.boxplot(column = [\"fare_amount\"], by = \"toward_north\", showfliers = False)"
   ]
  },
  {
   "cell_type": "markdown",
   "metadata": {},
   "source": [
    "Unfortunately, no matter which two of opposite orientations, the distributions of fare amount don't seem to have too much difference. "
   ]
  },
  {
   "cell_type": "code",
   "execution_count": 54,
   "metadata": {},
   "outputs": [],
   "source": [
    "from sklearn.pipeline import Pipeline, FeatureUnion\n",
    "from sklearn.base import BaseEstimator, TransformerMixin\n",
    "from sklearn.preprocessing import OneHotEncoder, StandardScaler, PolynomialFeatures\n",
    "from sklearn.linear_model import LinearRegression\n",
    "from sklearn.model_selection import cross_val_score, GridSearchCV\n",
    "from sklearn.ensemble import RandomForestRegressor\n",
    "from sklearn.svm import LinearSVR, SVR\n",
    "from sklearn.compose import ColumnTransformer"
   ]
  },
  {
   "cell_type": "markdown",
   "metadata": {},
   "source": [
    "## Features Preprocessing Pipeline"
   ]
  },
  {
   "cell_type": "markdown",
   "metadata": {},
   "source": [
    "After exploring the data, we get to know that which are good features to feed into predictive models to predict taxi fare,  \n",
    "-Categorical: pickup hour and pickup day of week  \n",
    "-Numerical: pickup year, travel distance, pickup longitude and dropoff longitude  \n",
    "Before training our data, we build pipelines that can handle preprocessing for each type of features respectively then combine together, for example, categorical features have to be encoded to multiple binaries as inputs and numerical features require scaling to have a better performance in certain machine learning algorithms."
   ]
  },
  {
   "cell_type": "code",
   "execution_count": 55,
   "metadata": {},
   "outputs": [],
   "source": [
    "## group pickup hour into bins in order to reduce model runtime\n",
    "class HourlyBins(BaseEstimator, TransformerMixin): \n",
    "    def __init__(self, bins = 8):\n",
    "        self.bins = bins\n",
    "    def fit(self, X, y = None):\n",
    "        return self\n",
    "    def transform(self, X, y = None):    \n",
    "        pickup_hour_bin = np.array(pd.cut(X[X.columns[0]], self.bins))\n",
    "        return pickup_hour_bin.reshape(-1, 1)"
   ]
  },
  {
   "cell_type": "code",
   "execution_count": 56,
   "metadata": {},
   "outputs": [],
   "source": [
    "hour_pipe = Pipeline([\n",
    "    ('hourlybins', HourlyBins()),\n",
    "    ('encoder', OneHotEncoder(categories='auto', sparse = False)),\n",
    "])\n",
    "\n",
    "ct_pipe = ColumnTransformer(transformers=[\n",
    "    ('hourly_cat', hour_pipe, [\"pickup_hour\"]),\n",
    "    ('encoder', OneHotEncoder(categories='auto', sparse = False), [\"pickup_dow\"]),\n",
    "    ('std_scaler', StandardScaler(), [\"pickup_year\", \"abs_distance\", \"pickup_longitude\", \"dropoff_longitude\"])\n",
    "])"
   ]
  },
  {
   "cell_type": "code",
   "execution_count": 57,
   "metadata": {},
   "outputs": [],
   "source": [
    "## build a function that can break raw data into independent variables and dependent variable for the models\n",
    "def XandY(df, test_set = False):\n",
    "    df = df.copy()\n",
    "    df[\"pickup_datetime\"] = pd.to_datetime(df[\"pickup_datetime\"])\n",
    "    df[\"pickup_year\"] = df[\"pickup_datetime\"].dt.year.astype(float)\n",
    "    df[\"pickup_dow\"] = df[\"pickup_datetime\"].dt.dayofweek\n",
    "    df[\"pickup_hour\"] = df[\"pickup_datetime\"].dt.hour\n",
    "    df[\"abs_distance\"] = np.hypot(df[\"dropoff_latitude\"]-df[\"pickup_latitude\"], df[\"dropoff_longitude\"]-df[\"pickup_longitude\"])\n",
    "    df_X = df[[\"pickup_year\", \"pickup_dow\", \"pickup_hour\", \"abs_distance\", \"pickup_longitude\", \"dropoff_longitude\"]]\n",
    "    if test_set == True:\n",
    "        return df_X\n",
    "    else:\n",
    "        df_y = df[\"fare_amount\"]\n",
    "        return df_X, df_y\n",
    "\n",
    "train_X, train_y = XandY(train_trim)"
   ]
  },
  {
   "cell_type": "markdown",
   "metadata": {},
   "source": [
    "## Linear Regression"
   ]
  },
  {
   "cell_type": "code",
   "execution_count": 58,
   "metadata": {},
   "outputs": [
    {
     "data": {
      "text/plain": [
       "3.6375211286416587"
      ]
     },
     "execution_count": 58,
     "metadata": {},
     "output_type": "execute_result"
    }
   ],
   "source": [
    "lr_pipe = Pipeline([\n",
    "    ('ct', ct_pipe),\n",
    "    ('lin_reg', LinearRegression())\n",
    "]) \n",
    "lr_score = cross_val_score(lr_pipe, train_X, train_y, scoring = \"neg_mean_squared_error\", cv = 5)\n",
    "lr_rmse = np.sqrt(-lr_score)\n",
    "lr_rmse.mean()"
   ]
  },
  {
   "cell_type": "markdown",
   "metadata": {},
   "source": [
    "## Polynomial Regression"
   ]
  },
  {
   "cell_type": "markdown",
   "metadata": {},
   "source": [
    "Before fitting a polynomial regression, we have to add polynomial features for numerical variables, we build this into preprocessing pipelines then we can do grid search on different degrees of polynomial more easily."
   ]
  },
  {
   "cell_type": "code",
   "execution_count": 59,
   "metadata": {},
   "outputs": [
    {
     "data": {
      "text/plain": [
       "{'poly_ct__poly__poly_features__degree': 3,\n",
       " 'poly_ct__poly__poly_features__include_bias': False}"
      ]
     },
     "execution_count": 59,
     "metadata": {},
     "output_type": "execute_result"
    }
   ],
   "source": [
    "poly_pipe = Pipeline([\n",
    "    ('poly_features', PolynomialFeatures()),\n",
    "    ('std_scaler', StandardScaler())\n",
    "])\n",
    "\n",
    "poly_ct_pipe = ColumnTransformer(transformers=[\n",
    "    ('hourly_cat', hour_pipe, [\"pickup_hour\"]),\n",
    "    ('encoder', OneHotEncoder(categories='auto', sparse = False), [\"pickup_dow\"]),\n",
    "    ('poly', poly_pipe, [\"pickup_year\", \"abs_distance\", \"pickup_longitude\", \"dropoff_longitude\"])\n",
    "])\n",
    "\n",
    "polyreg_pipe = Pipeline([\n",
    "    ('poly_ct', poly_ct_pipe),\n",
    "    ('reg', LinearRegression())\n",
    "])\n",
    "\n",
    "param_grid = {'poly_ct__poly__poly_features__degree': [2,3,5], 'poly_ct__poly__poly_features__include_bias': [False, True]}\n",
    "polyreg_gs = GridSearchCV(polyreg_pipe, param_grid, cv = 5, scoring = \"neg_mean_squared_error\")\n",
    "polyreg_gs.fit(train_X, train_y)\n",
    "polyreg_gs.best_params_"
   ]
  },
  {
   "cell_type": "code",
   "execution_count": 60,
   "metadata": {},
   "outputs": [
    {
     "data": {
      "text/plain": [
       "3.1811801591581887"
      ]
     },
     "execution_count": 60,
     "metadata": {},
     "output_type": "execute_result"
    }
   ],
   "source": [
    "np.sqrt(-polyreg_gs.best_score_)"
   ]
  },
  {
   "cell_type": "markdown",
   "metadata": {},
   "source": [
    "Polynomial regression improves the prediction error by 8%."
   ]
  },
  {
   "cell_type": "markdown",
   "metadata": {},
   "source": [
    "## Random Forest Regression"
   ]
  },
  {
   "cell_type": "code",
   "execution_count": 30,
   "metadata": {},
   "outputs": [
    {
     "data": {
      "text/plain": [
       "4.053465004839071"
      ]
     },
     "execution_count": 30,
     "metadata": {},
     "output_type": "execute_result"
    }
   ],
   "source": [
    "rfr_pipe = Pipeline([\n",
    "    ('ct', ct_pipe),\n",
    "    ('forest_reg', RandomForestRegressor(n_estimators = 10, n_jobs = -1, random_state = 3))\n",
    "])\n",
    "\n",
    "rfr_score = cross_val_score(rfr_pipe, train_X, train_y, scoring = \"neg_mean_squared_error\", cv = 5)\n",
    "rfr_rmse = np.sqrt(-rfr_score)\n",
    "rfr_rmse.mean()"
   ]
  },
  {
   "cell_type": "markdown",
   "metadata": {},
   "source": [
    "Random forest regression so far the best performer before even tuning the hyperparameters so we're keen to see if we can bring down the error with grid searches."
   ]
  },
  {
   "cell_type": "code",
   "execution_count": 65,
   "metadata": {},
   "outputs": [
    {
     "data": {
      "text/plain": [
       "{'forest_reg__max_features': 8, 'forest_reg__n_estimators': 20}"
      ]
     },
     "execution_count": 65,
     "metadata": {},
     "output_type": "execute_result"
    }
   ],
   "source": [
    "param_grid = {'forest_reg__n_estimators': [10, 20], 'forest_reg__max_features': [4, 8, 'auto']}\n",
    "forest_gs = GridSearchCV(rfr_pipe, param_grid, cv = 5, scoring = \"neg_mean_squared_error\")\n",
    "forest_gs.fit(train_X, train_y)\n",
    "forest_gs.best_params_"
   ]
  },
  {
   "cell_type": "code",
   "execution_count": 36,
   "metadata": {},
   "outputs": [
    {
     "data": {
      "text/plain": [
       "3.9138987431342045"
      ]
     },
     "execution_count": 36,
     "metadata": {},
     "output_type": "execute_result"
    }
   ],
   "source": [
    "np.sqrt(-forest_gs.best_score_)"
   ]
  },
  {
   "cell_type": "code",
   "execution_count": 32,
   "metadata": {},
   "outputs": [
    {
     "data": {
      "text/plain": [
       "array([4.10013607, 3.98669732, 4.01173281, 3.91389874, 4.05675042,\n",
       "       3.96155833])"
      ]
     },
     "execution_count": 32,
     "metadata": {},
     "output_type": "execute_result"
    }
   ],
   "source": [
    "np.sqrt(-forest_gs.cv_results_[\"mean_test_score\"])"
   ]
  },
  {
   "cell_type": "markdown",
   "metadata": {},
   "source": [
    "From the grid search results we see different max_features don't make too much difference in error, so as n_estimators, however we see with bigger estimators the errors are improved consistently so it's worth to try an even bigger n_estimators."
   ]
  },
  {
   "cell_type": "code",
   "execution_count": 31,
   "metadata": {},
   "outputs": [
    {
     "data": {
      "text/plain": [
       "3.8528172950838346"
      ]
     },
     "execution_count": 31,
     "metadata": {},
     "output_type": "execute_result"
    }
   ],
   "source": [
    "rfr_pipe = Pipeline([\n",
    "    ('ct', ct_pipe),\n",
    "    ('forest_reg', RandomForestRegressor(n_estimators = 50, max_features = 8, n_jobs = -1, random_state = 3))\n",
    "])\n",
    "\n",
    "rfr_score = cross_val_score(rfr_pipe, train_X, train_y, scoring = \"neg_mean_squared_error\", cv = 5)\n",
    "rfr_rmse = np.sqrt(-rfr_score)\n",
    "rfr_rmse.mean()"
   ]
  },
  {
   "cell_type": "markdown",
   "metadata": {},
   "source": [
    "When n_estimators = 50, the RMSE only improves by 1.5%. However it takes much more time to fit the model. It's suggested to stick with the last one as the best model."
   ]
  },
  {
   "cell_type": "markdown",
   "metadata": {},
   "source": [
    "## SVM Regression"
   ]
  },
  {
   "cell_type": "code",
   "execution_count": 27,
   "metadata": {},
   "outputs": [
    {
     "data": {
      "text/plain": [
       "{'lin_svr__epsilon': 2}"
      ]
     },
     "execution_count": 27,
     "metadata": {},
     "output_type": "execute_result"
    }
   ],
   "source": [
    "svr_pipe = Pipeline([\n",
    "    ('ct', ct_pipe),\n",
    "    ('lin_svr', LinearSVR())\n",
    "]) \n",
    "\n",
    "param_grid = {'lin_svr__epsilon': [0.5, 1, 2, 4]}\n",
    "svr_gs = GridSearchCV(svr_pipe, param_grid, cv = 5, scoring = \"neg_mean_squared_error\")\n",
    "svr_gs.fit(train_X, train_y)\n",
    "svr_gs.best_params_"
   ]
  },
  {
   "cell_type": "code",
   "execution_count": 28,
   "metadata": {},
   "outputs": [
    {
     "data": {
      "text/plain": [
       "4.60658321966807"
      ]
     },
     "execution_count": 28,
     "metadata": {},
     "output_type": "execute_result"
    }
   ],
   "source": [
    "np.sqrt(-svr_gs.best_score_)"
   ]
  },
  {
   "cell_type": "markdown",
   "metadata": {},
   "source": [
    "Linear SVR yields the similar performance as linear regression after grid search. We then try another non-linear SVR with RBF kernel."
   ]
  },
  {
   "cell_type": "code",
   "execution_count": 28,
   "metadata": {},
   "outputs": [
    {
     "name": "stderr",
     "output_type": "stream",
     "text": [
      "/anaconda3/lib/python3.7/site-packages/sklearn/svm/base.py:244: ConvergenceWarning: Solver terminated early (max_iter=1000).  Consider pre-processing your data with StandardScaler or MinMaxScaler.\n",
      "  % self.max_iter, ConvergenceWarning)\n"
     ]
    },
    {
     "data": {
      "text/plain": [
       "{'rbf_svr__C': 8}"
      ]
     },
     "execution_count": 28,
     "metadata": {},
     "output_type": "execute_result"
    }
   ],
   "source": [
    "ksvr_pipe = Pipeline([\n",
    "    ('ct', ct_pipe),\n",
    "    ('rbf_svr', SVR(kernel = \"rbf\", gamma = \"auto\", max_iter = 1000))  ## need to cap a maximum iteration otherwise it would take forever to fit \n",
    "]) \n",
    "\n",
    "param_grid = {'rbf_svr__C': [0.5, 2, 8]}\n",
    "ksvr_gs = GridSearchCV(ksvr_pipe, param_grid, cv = 5, scoring = \"neg_mean_squared_error\", n_jobs = -1)\n",
    "ksvr_gs.fit(train_X, train_y)\n",
    "ksvr_gs.best_params_"
   ]
  },
  {
   "cell_type": "code",
   "execution_count": 29,
   "metadata": {},
   "outputs": [
    {
     "data": {
      "text/plain": [
       "10.594365994738459"
      ]
     },
     "execution_count": 29,
     "metadata": {},
     "output_type": "execute_result"
    }
   ],
   "source": [
    "np.sqrt(-ksvr_gs.best_score_)"
   ]
  },
  {
   "cell_type": "markdown",
   "metadata": {},
   "source": [
    "This model seems to be way far from the optimal solution at the 1000th iteration, however, due to long fitting runtime it won't be so efficient to extend further."
   ]
  },
  {
   "cell_type": "markdown",
   "metadata": {},
   "source": [
    "## Apply Model to Test Set"
   ]
  },
  {
   "cell_type": "markdown",
   "metadata": {},
   "source": [
    "Now we've tested a handful of models and decide to choose `forest_gs.best_estimator` as the final model since it has both accuracy and speed. Next step is to show how to apply the model to new test data and make predictions."
   ]
  },
  {
   "cell_type": "code",
   "execution_count": 66,
   "metadata": {},
   "outputs": [
    {
     "name": "stdout",
     "output_type": "stream",
     "text": [
      "<class 'pandas.core.frame.DataFrame'>\n",
      "RangeIndex: 9914 entries, 0 to 9913\n",
      "Data columns (total 7 columns):\n",
      "key                  9914 non-null object\n",
      "pickup_datetime      9914 non-null object\n",
      "pickup_longitude     9914 non-null float64\n",
      "pickup_latitude      9914 non-null float64\n",
      "dropoff_longitude    9914 non-null float64\n",
      "dropoff_latitude     9914 non-null float64\n",
      "passenger_count      9914 non-null int64\n",
      "dtypes: float64(4), int64(1), object(2)\n",
      "memory usage: 542.2+ KB\n"
     ]
    }
   ],
   "source": [
    "test = pd.read_csv(\"test.csv\")\n",
    "test.info()"
   ]
  },
  {
   "cell_type": "code",
   "execution_count": 67,
   "metadata": {},
   "outputs": [],
   "source": [
    "test_X = XandY(test, test_set = True)"
   ]
  },
  {
   "cell_type": "code",
   "execution_count": 68,
   "metadata": {},
   "outputs": [],
   "source": [
    "final_model = forest_gs.best_estimator_\n",
    "test[\"fare_amount_pred\"] = final_model.predict(test_X)"
   ]
  },
  {
   "cell_type": "code",
   "execution_count": 69,
   "metadata": {},
   "outputs": [
    {
     "data": {
      "text/html": [
       "<div>\n",
       "<style scoped>\n",
       "    .dataframe tbody tr th:only-of-type {\n",
       "        vertical-align: middle;\n",
       "    }\n",
       "\n",
       "    .dataframe tbody tr th {\n",
       "        vertical-align: top;\n",
       "    }\n",
       "\n",
       "    .dataframe thead th {\n",
       "        text-align: right;\n",
       "    }\n",
       "</style>\n",
       "<table border=\"1\" class=\"dataframe\">\n",
       "  <thead>\n",
       "    <tr style=\"text-align: right;\">\n",
       "      <th></th>\n",
       "      <th>key</th>\n",
       "      <th>pickup_datetime</th>\n",
       "      <th>pickup_longitude</th>\n",
       "      <th>pickup_latitude</th>\n",
       "      <th>dropoff_longitude</th>\n",
       "      <th>dropoff_latitude</th>\n",
       "      <th>passenger_count</th>\n",
       "      <th>fare_amount_pred</th>\n",
       "    </tr>\n",
       "  </thead>\n",
       "  <tbody>\n",
       "    <tr>\n",
       "      <th>0</th>\n",
       "      <td>2015-01-27 13:08:24.0000002</td>\n",
       "      <td>2015-01-27 13:08:24 UTC</td>\n",
       "      <td>-73.973320</td>\n",
       "      <td>40.763805</td>\n",
       "      <td>-73.981430</td>\n",
       "      <td>40.743835</td>\n",
       "      <td>1</td>\n",
       "      <td>13.2500</td>\n",
       "    </tr>\n",
       "    <tr>\n",
       "      <th>1</th>\n",
       "      <td>2015-01-27 13:08:24.0000003</td>\n",
       "      <td>2015-01-27 13:08:24 UTC</td>\n",
       "      <td>-73.986862</td>\n",
       "      <td>40.719383</td>\n",
       "      <td>-73.998886</td>\n",
       "      <td>40.739201</td>\n",
       "      <td>1</td>\n",
       "      <td>11.6250</td>\n",
       "    </tr>\n",
       "    <tr>\n",
       "      <th>2</th>\n",
       "      <td>2011-10-08 11:53:44.0000002</td>\n",
       "      <td>2011-10-08 11:53:44 UTC</td>\n",
       "      <td>-73.982524</td>\n",
       "      <td>40.751260</td>\n",
       "      <td>-73.979654</td>\n",
       "      <td>40.746139</td>\n",
       "      <td>1</td>\n",
       "      <td>4.4600</td>\n",
       "    </tr>\n",
       "    <tr>\n",
       "      <th>3</th>\n",
       "      <td>2012-12-01 21:12:12.0000002</td>\n",
       "      <td>2012-12-01 21:12:12 UTC</td>\n",
       "      <td>-73.981160</td>\n",
       "      <td>40.767807</td>\n",
       "      <td>-73.990448</td>\n",
       "      <td>40.751635</td>\n",
       "      <td>1</td>\n",
       "      <td>9.5250</td>\n",
       "    </tr>\n",
       "    <tr>\n",
       "      <th>4</th>\n",
       "      <td>2012-12-01 21:12:12.0000003</td>\n",
       "      <td>2012-12-01 21:12:12 UTC</td>\n",
       "      <td>-73.966046</td>\n",
       "      <td>40.789775</td>\n",
       "      <td>-73.988565</td>\n",
       "      <td>40.744427</td>\n",
       "      <td>1</td>\n",
       "      <td>13.0250</td>\n",
       "    </tr>\n",
       "    <tr>\n",
       "      <th>5</th>\n",
       "      <td>2012-12-01 21:12:12.0000005</td>\n",
       "      <td>2012-12-01 21:12:12 UTC</td>\n",
       "      <td>-73.960983</td>\n",
       "      <td>40.765547</td>\n",
       "      <td>-73.979177</td>\n",
       "      <td>40.740053</td>\n",
       "      <td>1</td>\n",
       "      <td>11.2000</td>\n",
       "    </tr>\n",
       "    <tr>\n",
       "      <th>6</th>\n",
       "      <td>2011-10-06 12:10:20.0000001</td>\n",
       "      <td>2011-10-06 12:10:20 UTC</td>\n",
       "      <td>-73.949013</td>\n",
       "      <td>40.773204</td>\n",
       "      <td>-73.959622</td>\n",
       "      <td>40.770893</td>\n",
       "      <td>1</td>\n",
       "      <td>5.6400</td>\n",
       "    </tr>\n",
       "    <tr>\n",
       "      <th>7</th>\n",
       "      <td>2011-10-06 12:10:20.0000003</td>\n",
       "      <td>2011-10-06 12:10:20 UTC</td>\n",
       "      <td>-73.777282</td>\n",
       "      <td>40.646636</td>\n",
       "      <td>-73.985083</td>\n",
       "      <td>40.759368</td>\n",
       "      <td>1</td>\n",
       "      <td>49.0685</td>\n",
       "    </tr>\n",
       "    <tr>\n",
       "      <th>8</th>\n",
       "      <td>2011-10-06 12:10:20.0000002</td>\n",
       "      <td>2011-10-06 12:10:20 UTC</td>\n",
       "      <td>-74.014099</td>\n",
       "      <td>40.709638</td>\n",
       "      <td>-73.995106</td>\n",
       "      <td>40.741365</td>\n",
       "      <td>1</td>\n",
       "      <td>10.3800</td>\n",
       "    </tr>\n",
       "    <tr>\n",
       "      <th>9</th>\n",
       "      <td>2014-02-18 15:22:20.0000002</td>\n",
       "      <td>2014-02-18 15:22:20 UTC</td>\n",
       "      <td>-73.969582</td>\n",
       "      <td>40.765519</td>\n",
       "      <td>-73.980686</td>\n",
       "      <td>40.770725</td>\n",
       "      <td>1</td>\n",
       "      <td>6.4750</td>\n",
       "    </tr>\n",
       "  </tbody>\n",
       "</table>\n",
       "</div>"
      ],
      "text/plain": [
       "                           key          pickup_datetime  pickup_longitude  \\\n",
       "0  2015-01-27 13:08:24.0000002  2015-01-27 13:08:24 UTC        -73.973320   \n",
       "1  2015-01-27 13:08:24.0000003  2015-01-27 13:08:24 UTC        -73.986862   \n",
       "2  2011-10-08 11:53:44.0000002  2011-10-08 11:53:44 UTC        -73.982524   \n",
       "3  2012-12-01 21:12:12.0000002  2012-12-01 21:12:12 UTC        -73.981160   \n",
       "4  2012-12-01 21:12:12.0000003  2012-12-01 21:12:12 UTC        -73.966046   \n",
       "5  2012-12-01 21:12:12.0000005  2012-12-01 21:12:12 UTC        -73.960983   \n",
       "6  2011-10-06 12:10:20.0000001  2011-10-06 12:10:20 UTC        -73.949013   \n",
       "7  2011-10-06 12:10:20.0000003  2011-10-06 12:10:20 UTC        -73.777282   \n",
       "8  2011-10-06 12:10:20.0000002  2011-10-06 12:10:20 UTC        -74.014099   \n",
       "9  2014-02-18 15:22:20.0000002  2014-02-18 15:22:20 UTC        -73.969582   \n",
       "\n",
       "   pickup_latitude  dropoff_longitude  dropoff_latitude  passenger_count  \\\n",
       "0        40.763805         -73.981430         40.743835                1   \n",
       "1        40.719383         -73.998886         40.739201                1   \n",
       "2        40.751260         -73.979654         40.746139                1   \n",
       "3        40.767807         -73.990448         40.751635                1   \n",
       "4        40.789775         -73.988565         40.744427                1   \n",
       "5        40.765547         -73.979177         40.740053                1   \n",
       "6        40.773204         -73.959622         40.770893                1   \n",
       "7        40.646636         -73.985083         40.759368                1   \n",
       "8        40.709638         -73.995106         40.741365                1   \n",
       "9        40.765519         -73.980686         40.770725                1   \n",
       "\n",
       "   fare_amount_pred  \n",
       "0           13.2500  \n",
       "1           11.6250  \n",
       "2            4.4600  \n",
       "3            9.5250  \n",
       "4           13.0250  \n",
       "5           11.2000  \n",
       "6            5.6400  \n",
       "7           49.0685  \n",
       "8           10.3800  \n",
       "9            6.4750  "
      ]
     },
     "execution_count": 69,
     "metadata": {},
     "output_type": "execute_result"
    }
   ],
   "source": [
    "test.head(10)"
   ]
  }
 ],
 "metadata": {
  "kernelspec": {
   "display_name": "Python 3",
   "language": "python",
   "name": "python3"
  },
  "language_info": {
   "codemirror_mode": {
    "name": "ipython",
    "version": 3
   },
   "file_extension": ".py",
   "mimetype": "text/x-python",
   "name": "python",
   "nbconvert_exporter": "python",
   "pygments_lexer": "ipython3",
   "version": "3.7.10"
  }
 },
 "nbformat": 4,
 "nbformat_minor": 2
}
