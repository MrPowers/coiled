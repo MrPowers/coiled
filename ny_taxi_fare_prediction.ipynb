{
 "cells": [
  {
   "cell_type": "markdown",
   "metadata": {},
   "source": [
    "## NYC Taxi Data Machine Learning\n",
    "\n",
    "This notebook demonstrates how to run some machine learning models on the NYC taxi data with scikit-learn machine learning models.\n",
    "\n",
    "We start with exploratory data analysis and data cleaning.  The data is surprisingly messy.\n",
    "\n",
    "After the data is cleaned, we turn our attention to running ML models and assessing the accuracy of our predictions.\n",
    "\n",
    "You'll notice that some of the machine learning models take a long time to train, even when only a tiny sliver of the overall dataset is used.\n",
    "\n",
    "Machine learning is computationally expensive even when the dataset is small.\n",
    "\n",
    "Performance bottlenecks can prevent scientists from training models on large datasets.  Scientists need to leverage technologies like Dask to run these models on big data.  The next notebook will focus on running these computations in a performant manner."
   ]
  },
  {
   "cell_type": "markdown",
   "metadata": {},
   "source": [
    "## Read the data"
   ]
  },
  {
   "cell_type": "code",
   "execution_count": 77,
   "metadata": {},
   "outputs": [],
   "source": [
    "import math\n",
    "import pandas as pd\n",
    "import numpy as np\n",
    "from matplotlib import pyplot as plt\n",
    "%matplotlib inline"
   ]
  },
  {
   "cell_type": "code",
   "execution_count": 78,
   "metadata": {},
   "outputs": [],
   "source": [
    "dtype = {\n",
    "    \"payment_type\": \"UInt8\",\n",
    "    \"VendorID\": \"UInt8\",\n",
    "    \"passenger_count\": \"UInt8\",\n",
    "    \"RatecodeID\": \"UInt8\",\n",
    "    \"store_and_fwd_flag\": \"category\",\n",
    "    \"PULocationID\": \"UInt16\",\n",
    "    \"DOLocationID\": \"UInt16\",\n",
    "}"
   ]
  },
  {
   "cell_type": "code",
   "execution_count": 79,
   "metadata": {},
   "outputs": [],
   "source": [
    "path = \"/Users/powers/Downloads/yellow_tripdata_2009-01.csv\"\n",
    "train = pd.read_csv(path, nrows = 1000000, dtype=dtype, parse_dates=[\"Trip_Pickup_DateTime\"])"
   ]
  },
  {
   "cell_type": "code",
   "execution_count": 80,
   "metadata": {},
   "outputs": [],
   "source": [
    "train = train.rename(\n",
    "  columns={\n",
    "#     \"Trip_Pickup_DateTime\": \"key\",\n",
    "    \"Fare_Amt\": \"fare_amount\", \n",
    "    \"Trip_Pickup_DateTime\": \"pickup_datetime\",\n",
    "    \"Trip_Distance\": \"abs_distance\",\n",
    "    \"Start_Lon\": \"pickup_longitude\",\n",
    "    \"Start_Lat\": \"pickup_latitude\",\n",
    "    \"End_Lon\": \"dropoff_longitude\",\n",
    "    \"End_Lat\": \"dropoff_latitude\",\n",
    "    \"Passenger_Count\": \"passenger_count\"\n",
    "  }\n",
    ")\n",
    "\n"
   ]
  },
  {
   "cell_type": "code",
   "execution_count": 81,
   "metadata": {},
   "outputs": [],
   "source": [
    "train = train[[\n",
    "    \"fare_amount\",\n",
    "    \"pickup_datetime\",\n",
    "    \"abs_distance\",\n",
    "    \"pickup_longitude\",\n",
    "    \"pickup_latitude\",\n",
    "    \"dropoff_longitude\",\n",
    "    \"dropoff_latitude\",\n",
    "    \"passenger_count\"\n",
    "]]"
   ]
  },
  {
   "cell_type": "markdown",
   "metadata": {},
   "source": [
    "## Exploratory Data Analysis"
   ]
  },
  {
   "cell_type": "code",
   "execution_count": 82,
   "metadata": {},
   "outputs": [
    {
     "data": {
      "text/html": [
       "<div>\n",
       "<style scoped>\n",
       "    .dataframe tbody tr th:only-of-type {\n",
       "        vertical-align: middle;\n",
       "    }\n",
       "\n",
       "    .dataframe tbody tr th {\n",
       "        vertical-align: top;\n",
       "    }\n",
       "\n",
       "    .dataframe thead th {\n",
       "        text-align: right;\n",
       "    }\n",
       "</style>\n",
       "<table border=\"1\" class=\"dataframe\">\n",
       "  <thead>\n",
       "    <tr style=\"text-align: right;\">\n",
       "      <th></th>\n",
       "      <th>fare_amount</th>\n",
       "      <th>pickup_datetime</th>\n",
       "      <th>abs_distance</th>\n",
       "      <th>pickup_longitude</th>\n",
       "      <th>pickup_latitude</th>\n",
       "      <th>dropoff_longitude</th>\n",
       "      <th>dropoff_latitude</th>\n",
       "      <th>passenger_count</th>\n",
       "    </tr>\n",
       "  </thead>\n",
       "  <tbody>\n",
       "    <tr>\n",
       "      <th>0</th>\n",
       "      <td>8.9</td>\n",
       "      <td>2009-01-04 02:52:00</td>\n",
       "      <td>2.63</td>\n",
       "      <td>-73.991957</td>\n",
       "      <td>40.721567</td>\n",
       "      <td>-73.993803</td>\n",
       "      <td>40.695922</td>\n",
       "      <td>1</td>\n",
       "    </tr>\n",
       "    <tr>\n",
       "      <th>1</th>\n",
       "      <td>12.1</td>\n",
       "      <td>2009-01-04 03:31:00</td>\n",
       "      <td>4.55</td>\n",
       "      <td>-73.982102</td>\n",
       "      <td>40.736290</td>\n",
       "      <td>-73.955850</td>\n",
       "      <td>40.768030</td>\n",
       "      <td>3</td>\n",
       "    </tr>\n",
       "    <tr>\n",
       "      <th>2</th>\n",
       "      <td>23.7</td>\n",
       "      <td>2009-01-03 15:43:00</td>\n",
       "      <td>10.35</td>\n",
       "      <td>-74.002587</td>\n",
       "      <td>40.739748</td>\n",
       "      <td>-73.869983</td>\n",
       "      <td>40.770225</td>\n",
       "      <td>5</td>\n",
       "    </tr>\n",
       "    <tr>\n",
       "      <th>3</th>\n",
       "      <td>14.9</td>\n",
       "      <td>2009-01-01 20:52:58</td>\n",
       "      <td>5.00</td>\n",
       "      <td>-73.974267</td>\n",
       "      <td>40.790955</td>\n",
       "      <td>-73.996558</td>\n",
       "      <td>40.731849</td>\n",
       "      <td>1</td>\n",
       "    </tr>\n",
       "    <tr>\n",
       "      <th>4</th>\n",
       "      <td>3.7</td>\n",
       "      <td>2009-01-24 16:18:23</td>\n",
       "      <td>0.40</td>\n",
       "      <td>-74.001580</td>\n",
       "      <td>40.719382</td>\n",
       "      <td>-74.008378</td>\n",
       "      <td>40.720350</td>\n",
       "      <td>1</td>\n",
       "    </tr>\n",
       "    <tr>\n",
       "      <th>5</th>\n",
       "      <td>6.1</td>\n",
       "      <td>2009-01-16 22:35:59</td>\n",
       "      <td>1.20</td>\n",
       "      <td>-73.989806</td>\n",
       "      <td>40.735006</td>\n",
       "      <td>-73.985021</td>\n",
       "      <td>40.724494</td>\n",
       "      <td>2</td>\n",
       "    </tr>\n",
       "    <tr>\n",
       "      <th>6</th>\n",
       "      <td>5.7</td>\n",
       "      <td>2009-01-21 08:55:57</td>\n",
       "      <td>0.40</td>\n",
       "      <td>-73.984050</td>\n",
       "      <td>40.743544</td>\n",
       "      <td>-73.980260</td>\n",
       "      <td>40.748926</td>\n",
       "      <td>1</td>\n",
       "    </tr>\n",
       "    <tr>\n",
       "      <th>7</th>\n",
       "      <td>6.1</td>\n",
       "      <td>2009-01-04 04:31:00</td>\n",
       "      <td>1.72</td>\n",
       "      <td>-73.992635</td>\n",
       "      <td>40.748362</td>\n",
       "      <td>-73.995585</td>\n",
       "      <td>40.728307</td>\n",
       "      <td>1</td>\n",
       "    </tr>\n",
       "    <tr>\n",
       "      <th>8</th>\n",
       "      <td>8.7</td>\n",
       "      <td>2009-01-05 16:29:02</td>\n",
       "      <td>1.60</td>\n",
       "      <td>-73.969690</td>\n",
       "      <td>40.749244</td>\n",
       "      <td>-73.990413</td>\n",
       "      <td>40.751082</td>\n",
       "      <td>1</td>\n",
       "    </tr>\n",
       "    <tr>\n",
       "      <th>9</th>\n",
       "      <td>5.9</td>\n",
       "      <td>2009-01-05 18:53:13</td>\n",
       "      <td>0.70</td>\n",
       "      <td>-73.955173</td>\n",
       "      <td>40.783044</td>\n",
       "      <td>-73.958598</td>\n",
       "      <td>40.774822</td>\n",
       "      <td>1</td>\n",
       "    </tr>\n",
       "  </tbody>\n",
       "</table>\n",
       "</div>"
      ],
      "text/plain": [
       "   fare_amount     pickup_datetime  abs_distance  pickup_longitude  \\\n",
       "0          8.9 2009-01-04 02:52:00          2.63        -73.991957   \n",
       "1         12.1 2009-01-04 03:31:00          4.55        -73.982102   \n",
       "2         23.7 2009-01-03 15:43:00         10.35        -74.002587   \n",
       "3         14.9 2009-01-01 20:52:58          5.00        -73.974267   \n",
       "4          3.7 2009-01-24 16:18:23          0.40        -74.001580   \n",
       "5          6.1 2009-01-16 22:35:59          1.20        -73.989806   \n",
       "6          5.7 2009-01-21 08:55:57          0.40        -73.984050   \n",
       "7          6.1 2009-01-04 04:31:00          1.72        -73.992635   \n",
       "8          8.7 2009-01-05 16:29:02          1.60        -73.969690   \n",
       "9          5.9 2009-01-05 18:53:13          0.70        -73.955173   \n",
       "\n",
       "   pickup_latitude  dropoff_longitude  dropoff_latitude  passenger_count  \n",
       "0        40.721567         -73.993803         40.695922                1  \n",
       "1        40.736290         -73.955850         40.768030                3  \n",
       "2        40.739748         -73.869983         40.770225                5  \n",
       "3        40.790955         -73.996558         40.731849                1  \n",
       "4        40.719382         -74.008378         40.720350                1  \n",
       "5        40.735006         -73.985021         40.724494                2  \n",
       "6        40.743544         -73.980260         40.748926                1  \n",
       "7        40.748362         -73.995585         40.728307                1  \n",
       "8        40.749244         -73.990413         40.751082                1  \n",
       "9        40.783044         -73.958598         40.774822                1  "
      ]
     },
     "execution_count": 82,
     "metadata": {},
     "output_type": "execute_result"
    }
   ],
   "source": [
    "train.head(10)"
   ]
  },
  {
   "cell_type": "markdown",
   "metadata": {},
   "source": [
    "Drop the missing data"
   ]
  },
  {
   "cell_type": "code",
   "execution_count": 83,
   "metadata": {},
   "outputs": [],
   "source": [
    "train = train.dropna()"
   ]
  },
  {
   "cell_type": "markdown",
   "metadata": {},
   "source": [
    "Add columns that show the year, day-of-week, and hour for each pickup because these may be factors that explain the overall fare."
   ]
  },
  {
   "cell_type": "code",
   "execution_count": 84,
   "metadata": {},
   "outputs": [],
   "source": [
    "train[\"pickup_datetime\"] = pd.to_datetime(train[\"pickup_datetime\"])\n",
    "train[\"pickup_year\"] = train[\"pickup_datetime\"].dt.year\n",
    "train[\"pickup_dow\"] = train[\"pickup_datetime\"].dt.dayofweek\n",
    "train[\"pickup_hour\"] = train[\"pickup_datetime\"].dt.hour"
   ]
  },
  {
   "cell_type": "markdown",
   "metadata": {},
   "source": [
    "In Pandas, Monday is 0 and Sunday is 6.  Let's plot the average fare amount by day of week and see that fares tend to be higher on Saturday."
   ]
  },
  {
   "cell_type": "code",
   "execution_count": 85,
   "metadata": {},
   "outputs": [
    {
     "data": {
      "text/plain": [
       "<AxesSubplot:xlabel='pickup_dow'>"
      ]
     },
     "execution_count": 85,
     "metadata": {},
     "output_type": "execute_result"
    },
    {
     "data": {
      "image/png": "[encoded data removed]",
      "text/plain": [
       "<Figure size 432x288 with 1 Axes>"
      ]
     },
     "metadata": {
      "needs_background": "light"
     },
     "output_type": "display_data"
    }
   ],
   "source": [
    "train.groupby(\"pickup_dow\")[\"fare_amount\"].mean().plot()"
   ]
  },
  {
   "cell_type": "markdown",
   "metadata": {},
   "source": [
    "Let's also plot the fare by pickup hour and observe that fares are generally higher late at night / really early in the morning."
   ]
  },
  {
   "cell_type": "code",
   "execution_count": 32,
   "metadata": {},
   "outputs": [
    {
     "data": {
      "text/plain": [
       "<AxesSubplot:xlabel='pickup_hour'>"
      ]
     },
     "execution_count": 32,
     "metadata": {},
     "output_type": "execute_result"
    },
    {
     "data": {
      "image/png": "[encoded data removed]",
      "text/plain": [
       "<Figure size 432x288 with 1 Axes>"
      ]
     },
     "metadata": {
      "needs_background": "light"
     },
     "output_type": "display_data"
    }
   ],
   "source": [
    "train.groupby(\"pickup_hour\")[\"fare_amount\"].mean().plot()"
   ]
  },
  {
   "cell_type": "markdown",
   "metadata": {},
   "source": [
    "Let's plot the distance of the trip vs the fare amount and observe the positive correlation.  There are a lot of weird outliers in the data.  Trips that are short & cost a lot / trips that are long & don't cost much at all."
   ]
  },
  {
   "cell_type": "code",
   "execution_count": 33,
   "metadata": {},
   "outputs": [
    {
     "data": {
      "text/plain": [
       "<matplotlib.collections.PathCollection at 0x7f834201fb90>"
      ]
     },
     "execution_count": 33,
     "metadata": {},
     "output_type": "execute_result"
    },
    {
     "data": {
      "image/png": "[encoded data removed]",
      "text/plain": [
       "<Figure size 432x288 with 1 Axes>"
      ]
     },
     "metadata": {
      "needs_background": "light"
     },
     "output_type": "display_data"
    }
   ],
   "source": [
    "plt.scatter(train[\"abs_distance\"], train[\"fare_amount\"])"
   ]
  },
  {
   "cell_type": "markdown",
   "metadata": {},
   "source": [
    "Let's look at the lat / long coordinates for some trips and see that there are clearly some data points that are irregular.  NYC is 40.7 (lat) and -70.9 (long).  There are clearly some lat/long coordinates that don't make sense in the data."
   ]
  },
  {
   "cell_type": "code",
   "execution_count": 36,
   "metadata": {},
   "outputs": [
    {
     "data": {
      "text/plain": [
       "<matplotlib.collections.PathCollection at 0x7f8312d3e710>"
      ]
     },
     "execution_count": 36,
     "metadata": {},
     "output_type": "execute_result"
    },
    {
     "data": {
      "image/png": "[encoded data removed]",
      "text/plain": [
       "<Figure size 432x288 with 1 Axes>"
      ]
     },
     "metadata": {
      "needs_background": "light"
     },
     "output_type": "display_data"
    }
   ],
   "source": [
    "plt.scatter(train[\"pickup_latitude\"], train[\"pickup_longitude\"])"
   ]
  },
  {
   "cell_type": "code",
   "execution_count": 47,
   "metadata": {},
   "outputs": [
    {
     "data": {
      "text/html": [
       "<div>\n",
       "<style scoped>\n",
       "    .dataframe tbody tr th:only-of-type {\n",
       "        vertical-align: middle;\n",
       "    }\n",
       "\n",
       "    .dataframe tbody tr th {\n",
       "        vertical-align: top;\n",
       "    }\n",
       "\n",
       "    .dataframe thead th {\n",
       "        text-align: right;\n",
       "    }\n",
       "</style>\n",
       "<table border=\"1\" class=\"dataframe\">\n",
       "  <thead>\n",
       "    <tr style=\"text-align: right;\">\n",
       "      <th></th>\n",
       "      <th>fare_amount</th>\n",
       "      <th>pickup_longitude</th>\n",
       "      <th>pickup_latitude</th>\n",
       "      <th>dropoff_longitude</th>\n",
       "      <th>dropoff_latitude</th>\n",
       "      <th>passenger_count</th>\n",
       "      <th>pickup_year</th>\n",
       "      <th>pickup_dow</th>\n",
       "      <th>pickup_hour</th>\n",
       "      <th>move_latitude</th>\n",
       "      <th>move_longitude</th>\n",
       "      <th>abs_distance</th>\n",
       "    </tr>\n",
       "  </thead>\n",
       "  <tbody>\n",
       "    <tr>\n",
       "      <th>count</th>\n",
       "      <td>1000000.000000</td>\n",
       "      <td>1000000.000000</td>\n",
       "      <td>1000000.000000</td>\n",
       "      <td>1000000.000000</td>\n",
       "      <td>1000000.000000</td>\n",
       "      <td>1000000.000000</td>\n",
       "      <td>1000000.0</td>\n",
       "      <td>1000000.000000</td>\n",
       "      <td>1000000.00000</td>\n",
       "      <td>1000000.000000</td>\n",
       "      <td>1000000.000000</td>\n",
       "      <td>1000000.000000</td>\n",
       "    </tr>\n",
       "    <tr>\n",
       "      <th>mean</th>\n",
       "      <td>9.509305</td>\n",
       "      <td>-72.854071</td>\n",
       "      <td>40.136485</td>\n",
       "      <td>-72.872051</td>\n",
       "      <td>40.146706</td>\n",
       "      <td>1.716341</td>\n",
       "      <td>2009.0</td>\n",
       "      <td>3.173156</td>\n",
       "      <td>13.66919</td>\n",
       "      <td>1.134570</td>\n",
       "      <td>-1.528288</td>\n",
       "      <td>5.805853</td>\n",
       "    </tr>\n",
       "    <tr>\n",
       "      <th>std</th>\n",
       "      <td>7.204505</td>\n",
       "      <td>9.036628</td>\n",
       "      <td>4.991860</td>\n",
       "      <td>8.960220</td>\n",
       "      <td>4.936660</td>\n",
       "      <td>1.278965</td>\n",
       "      <td>0.0</td>\n",
       "      <td>1.884256</td>\n",
       "      <td>6.44146</td>\n",
       "      <td>93.872869</td>\n",
       "      <td>118.118614</td>\n",
       "      <td>150.778106</td>\n",
       "    </tr>\n",
       "    <tr>\n",
       "      <th>min</th>\n",
       "      <td>2.500000</td>\n",
       "      <td>-83.432169</td>\n",
       "      <td>-0.070208</td>\n",
       "      <td>-83.432169</td>\n",
       "      <td>-0.063655</td>\n",
       "      <td>0.000000</td>\n",
       "      <td>2009.0</td>\n",
       "      <td>0.000000</td>\n",
       "      <td>0.00000</td>\n",
       "      <td>-40889.907717</td>\n",
       "      <td>-6401.079530</td>\n",
       "      <td>0.000000</td>\n",
       "    </tr>\n",
       "    <tr>\n",
       "      <th>25%</th>\n",
       "      <td>5.400000</td>\n",
       "      <td>-73.991463</td>\n",
       "      <td>40.736417</td>\n",
       "      <td>-73.990974</td>\n",
       "      <td>40.735454</td>\n",
       "      <td>1.000000</td>\n",
       "      <td>2009.0</td>\n",
       "      <td>2.000000</td>\n",
       "      <td>9.00000</td>\n",
       "      <td>-1.411698</td>\n",
       "      <td>-0.903125</td>\n",
       "      <td>1.145508</td>\n",
       "    </tr>\n",
       "    <tr>\n",
       "      <th>50%</th>\n",
       "      <td>7.300000</td>\n",
       "      <td>-73.981423</td>\n",
       "      <td>40.753958</td>\n",
       "      <td>-73.979780</td>\n",
       "      <td>40.754256</td>\n",
       "      <td>1.000000</td>\n",
       "      <td>2009.0</td>\n",
       "      <td>3.000000</td>\n",
       "      <td>15.00000</td>\n",
       "      <td>0.000000</td>\n",
       "      <td>0.026180</td>\n",
       "      <td>1.981049</td>\n",
       "    </tr>\n",
       "    <tr>\n",
       "      <th>75%</th>\n",
       "      <td>10.600000</td>\n",
       "      <td>-73.967456</td>\n",
       "      <td>40.768135</td>\n",
       "      <td>-73.964072</td>\n",
       "      <td>40.769249</td>\n",
       "      <td>2.000000</td>\n",
       "      <td>2009.0</td>\n",
       "      <td>5.000000</td>\n",
       "      <td>19.00000</td>\n",
       "      <td>1.439448</td>\n",
       "      <td>1.087065</td>\n",
       "      <td>3.564567</td>\n",
       "    </tr>\n",
       "    <tr>\n",
       "      <th>max</th>\n",
       "      <td>200.000000</td>\n",
       "      <td>0.031645</td>\n",
       "      <td>409.133332</td>\n",
       "      <td>0.032062</td>\n",
       "      <td>81.535005</td>\n",
       "      <td>6.000000</td>\n",
       "      <td>2009.0</td>\n",
       "      <td>6.000000</td>\n",
       "      <td>23.00000</td>\n",
       "      <td>4535.760588</td>\n",
       "      <td>6297.819660</td>\n",
       "      <td>40889.907726</td>\n",
       "    </tr>\n",
       "  </tbody>\n",
       "</table>\n",
       "</div>"
      ],
      "text/plain": [
       "          fare_amount  pickup_longitude  pickup_latitude  dropoff_longitude  \\\n",
       "count  1000000.000000    1000000.000000   1000000.000000     1000000.000000   \n",
       "mean         9.509305        -72.854071        40.136485         -72.872051   \n",
       "std          7.204505          9.036628         4.991860           8.960220   \n",
       "min          2.500000        -83.432169        -0.070208         -83.432169   \n",
       "25%          5.400000        -73.991463        40.736417         -73.990974   \n",
       "50%          7.300000        -73.981423        40.753958         -73.979780   \n",
       "75%         10.600000        -73.967456        40.768135         -73.964072   \n",
       "max        200.000000          0.031645       409.133332           0.032062   \n",
       "\n",
       "       dropoff_latitude  passenger_count  pickup_year      pickup_dow  \\\n",
       "count    1000000.000000   1000000.000000    1000000.0  1000000.000000   \n",
       "mean          40.146706         1.716341       2009.0        3.173156   \n",
       "std            4.936660         1.278965          0.0        1.884256   \n",
       "min           -0.063655         0.000000       2009.0        0.000000   \n",
       "25%           40.735454         1.000000       2009.0        2.000000   \n",
       "50%           40.754256         1.000000       2009.0        3.000000   \n",
       "75%           40.769249         2.000000       2009.0        5.000000   \n",
       "max           81.535005         6.000000       2009.0        6.000000   \n",
       "\n",
       "         pickup_hour   move_latitude  move_longitude    abs_distance  \n",
       "count  1000000.00000  1000000.000000  1000000.000000  1000000.000000  \n",
       "mean        13.66919        1.134570       -1.528288        5.805853  \n",
       "std          6.44146       93.872869      118.118614      150.778106  \n",
       "min          0.00000   -40889.907717    -6401.079530        0.000000  \n",
       "25%          9.00000       -1.411698       -0.903125        1.145508  \n",
       "50%         15.00000        0.000000        0.026180        1.981049  \n",
       "75%         19.00000        1.439448        1.087065        3.564567  \n",
       "max         23.00000     4535.760588     6297.819660    40889.907726  "
      ]
     },
     "execution_count": 47,
     "metadata": {},
     "output_type": "execute_result"
    }
   ],
   "source": [
    "train.describe()"
   ]
  },
  {
   "cell_type": "markdown",
   "metadata": {},
   "source": [
    "We're going to drop the following data:\n",
    "\n",
    "* lat/long coordinates that don't make sense\n",
    "* fares less than the minimum (2.5)\n",
    "* trips over 100 miles"
   ]
  },
  {
   "cell_type": "code",
   "execution_count": 86,
   "metadata": {},
   "outputs": [],
   "source": [
    "train = train[train[\"fare_amount\"] >= 2.5]\n",
    "\n",
    "longtitude_range = (train[\"pickup_longitude\"] <= -73.4) & (train[\"pickup_longitude\"]  >= -74.4)\n",
    "latitude_range = (train[\"pickup_latitude\"] <= 41.2) & (train[\"pickup_latitude\"] >= 40.2)\n",
    "train_trim = train[longtitude_range & latitude_range]\n",
    "\n",
    "train_trim = train_trim[(train_trim[\"abs_distance\"] < 100) & (train_trim[\"abs_distance\"] > 0)]"
   ]
  },
  {
   "cell_type": "markdown",
   "metadata": {},
   "source": [
    "We can see that 2.5% of the data was abnormal and \"trimmed\" with our filtering."
   ]
  },
  {
   "cell_type": "code",
   "execution_count": 87,
   "metadata": {},
   "outputs": [
    {
     "data": {
      "text/plain": [
       "0.975224"
      ]
     },
     "execution_count": 87,
     "metadata": {},
     "output_type": "execute_result"
    }
   ],
   "source": [
    "train_trim.shape[0]/train.shape[0]"
   ]
  },
  {
   "cell_type": "markdown",
   "metadata": {},
   "source": [
    "See the below plot on distance vs fare and observe the data looks more reasonable.  We can still see there are a lot of really long trips that have a really cheap fare, so looks like even more data cleaning is needed, but let's forge ahead."
   ]
  },
  {
   "cell_type": "code",
   "execution_count": 45,
   "metadata": {},
   "outputs": [
    {
     "data": {
      "text/plain": [
       "<matplotlib.collections.PathCollection at 0x7f835333bb10>"
      ]
     },
     "execution_count": 45,
     "metadata": {},
     "output_type": "execute_result"
    },
    {
     "data": {
      "image/png": "[encoded data removed]",
      "text/plain": [
       "<Figure size 432x288 with 1 Axes>"
      ]
     },
     "metadata": {
      "needs_background": "light"
     },
     "output_type": "display_data"
    }
   ],
   "source": [
    "plt.scatter(train_trim[\"abs_distance\"], train_trim[\"fare_amount\"])"
   ]
  },
  {
   "cell_type": "markdown",
   "metadata": {},
   "source": [
    "Let's see the correlation of the total fare with other variables.  The total fare is most highly correlated with the trip distance and the pickup longitude."
   ]
  },
  {
   "cell_type": "code",
   "execution_count": 43,
   "metadata": {},
   "outputs": [
    {
     "data": {
      "text/plain": [
       "fare_amount          1.000000\n",
       "abs_distance         0.946698\n",
       "pickup_longitude     0.370617\n",
       "dropoff_longitude    0.021076\n",
       "pickup_dow           0.006840\n",
       "passenger_count      0.003776\n",
       "dropoff_latitude    -0.018598\n",
       "pickup_hour         -0.021891\n",
       "pickup_latitude     -0.198434\n",
       "pickup_year               NaN\n",
       "Name: fare_amount, dtype: float64"
      ]
     },
     "execution_count": 43,
     "metadata": {},
     "output_type": "execute_result"
    }
   ],
   "source": [
    "train_trim.corr()[\"fare_amount\"].sort_values(ascending = False)"
   ]
  },
  {
   "cell_type": "markdown",
   "metadata": {},
   "source": [
    "Plot the fare amount by pickup longitude and see that there are a lot of really expensive trips at a longitude of around -73.9.  Looks like a lot of folks take expensive cab rides out of Manhattan.  Probably workers leaving the office late and using a corporate credit card to get home ;)"
   ]
  },
  {
   "cell_type": "code",
   "execution_count": 44,
   "metadata": {},
   "outputs": [
    {
     "data": {
      "text/plain": [
       "<matplotlib.collections.PathCollection at 0x7f831248ac90>"
      ]
     },
     "execution_count": 44,
     "metadata": {},
     "output_type": "execute_result"
    },
    {
     "data": {
      "image/png": "[encoded data removed]",
      "text/plain": [
       "<Figure size 432x288 with 1 Axes>"
      ]
     },
     "metadata": {
      "needs_background": "light"
     },
     "output_type": "display_data"
    }
   ],
   "source": [
    "plt.scatter(train_trim[\"pickup_longitude\"], train_trim[\"fare_amount\"])"
   ]
  },
  {
   "cell_type": "markdown",
   "metadata": {},
   "source": [
    "## Machine Learning\n",
    "\n",
    "This section runs linear and random forest regressions.\n",
    "\n",
    "The random forest regression has a lower root square mean error, so it's more accurate.  The following cells show how to train the models and compute the RSME.\n",
    "\n",
    "We then show how to run the random forest regression model on test data to see how the estimated fares line up with actual results."
   ]
  },
  {
   "cell_type": "code",
   "execution_count": 88,
   "metadata": {},
   "outputs": [],
   "source": [
    "from sklearn.pipeline import Pipeline, FeatureUnion\n",
    "from sklearn.base import BaseEstimator, TransformerMixin\n",
    "from sklearn.preprocessing import OneHotEncoder, StandardScaler, PolynomialFeatures\n",
    "from sklearn.linear_model import LinearRegression\n",
    "from sklearn.model_selection import cross_val_score, GridSearchCV\n",
    "from sklearn.ensemble import RandomForestRegressor\n",
    "from sklearn.svm import LinearSVR, SVR\n",
    "from sklearn.compose import ColumnTransformer"
   ]
  },
  {
   "cell_type": "markdown",
   "metadata": {},
   "source": [
    "## Features Preprocessing Pipeline"
   ]
  },
  {
   "cell_type": "code",
   "execution_count": 48,
   "metadata": {},
   "outputs": [],
   "source": [
    "## group pickup hour into bins in order to reduce model runtime\n",
    "class HourlyBins(BaseEstimator, TransformerMixin): \n",
    "    def __init__(self, bins = 8):\n",
    "        self.bins = bins\n",
    "    def fit(self, X, y = None):\n",
    "        return self\n",
    "    def transform(self, X, y = None):    \n",
    "        pickup_hour_bin = np.array(pd.cut(X[X.columns[0]], self.bins))\n",
    "        return pickup_hour_bin.reshape(-1, 1)"
   ]
  },
  {
   "cell_type": "code",
   "execution_count": 49,
   "metadata": {},
   "outputs": [],
   "source": [
    "hour_pipe = Pipeline([\n",
    "    ('hourlybins', HourlyBins()),\n",
    "    ('encoder', OneHotEncoder(categories='auto', sparse = False)),\n",
    "])\n",
    "\n",
    "ct_pipe = ColumnTransformer(transformers=[\n",
    "    ('hourly_cat', hour_pipe, [\"pickup_hour\"]),\n",
    "    ('encoder', OneHotEncoder(categories='auto', sparse = False), [\"pickup_dow\"]),\n",
    "    ('std_scaler', StandardScaler(), [\"pickup_year\", \"abs_distance\", \"pickup_longitude\", \"dropoff_longitude\"])\n",
    "])"
   ]
  },
  {
   "cell_type": "code",
   "execution_count": 50,
   "metadata": {},
   "outputs": [],
   "source": [
    "## build a function that can break raw data into independent variables and dependent variable for the models\n",
    "def XandY(df, test_set = False):\n",
    "    df = df.copy()\n",
    "    df[\"pickup_datetime\"] = pd.to_datetime(df[\"pickup_datetime\"])\n",
    "    df[\"pickup_year\"] = df[\"pickup_datetime\"].dt.year.astype(float)\n",
    "    df[\"pickup_dow\"] = df[\"pickup_datetime\"].dt.dayofweek\n",
    "    df[\"pickup_hour\"] = df[\"pickup_datetime\"].dt.hour\n",
    "    df[\"abs_distance\"] = np.hypot(df[\"dropoff_latitude\"]-df[\"pickup_latitude\"], df[\"dropoff_longitude\"]-df[\"pickup_longitude\"])\n",
    "    df_X = df[[\"pickup_year\", \"pickup_dow\", \"pickup_hour\", \"abs_distance\", \"pickup_longitude\", \"dropoff_longitude\"]]\n",
    "    if test_set == True:\n",
    "        return df_X\n",
    "    else:\n",
    "        df_y = df[\"fare_amount\"]\n",
    "        return df_X, df_y\n",
    "\n",
    "train_X, train_y = XandY(train_trim)"
   ]
  },
  {
   "cell_type": "markdown",
   "metadata": {},
   "source": [
    "## Linear Regression"
   ]
  },
  {
   "cell_type": "code",
   "execution_count": 51,
   "metadata": {},
   "outputs": [
    {
     "data": {
      "text/plain": [
       "5.847354676391356"
      ]
     },
     "execution_count": 51,
     "metadata": {},
     "output_type": "execute_result"
    }
   ],
   "source": [
    "lr_pipe = Pipeline([\n",
    "    ('ct', ct_pipe),\n",
    "    ('lin_reg', LinearRegression())\n",
    "]) \n",
    "lr_score = cross_val_score(lr_pipe, train_X, train_y, scoring = \"neg_mean_squared_error\", cv = 5)\n",
    "lr_rmse = np.sqrt(-lr_score)\n",
    "lr_rmse.mean()"
   ]
  },
  {
   "cell_type": "markdown",
   "metadata": {},
   "source": [
    "## Random Forest Regression"
   ]
  },
  {
   "cell_type": "code",
   "execution_count": 52,
   "metadata": {},
   "outputs": [
    {
     "data": {
      "text/plain": [
       "2.7445893362457534"
      ]
     },
     "execution_count": 52,
     "metadata": {},
     "output_type": "execute_result"
    }
   ],
   "source": [
    "rfr_pipe = Pipeline([\n",
    "    ('ct', ct_pipe),\n",
    "    ('forest_reg', RandomForestRegressor(n_estimators = 10, n_jobs = -1, random_state = 3))\n",
    "])\n",
    "\n",
    "rfr_score = cross_val_score(rfr_pipe, train_X, train_y, scoring = \"neg_mean_squared_error\", cv = 5)\n",
    "rfr_rmse = np.sqrt(-rfr_score)\n",
    "rfr_rmse.mean()"
   ]
  },
  {
   "cell_type": "code",
   "execution_count": 53,
   "metadata": {},
   "outputs": [
    {
     "data": {
      "text/plain": [
       "{'forest_reg__max_features': 8, 'forest_reg__n_estimators': 20}"
      ]
     },
     "execution_count": 53,
     "metadata": {},
     "output_type": "execute_result"
    }
   ],
   "source": [
    "param_grid = {'forest_reg__n_estimators': [10, 20], 'forest_reg__max_features': [4, 8, 'auto']}\n",
    "forest_gs = GridSearchCV(rfr_pipe, param_grid, cv = 5, scoring = \"neg_mean_squared_error\")\n",
    "forest_gs.fit(train_X, train_y)\n",
    "forest_gs.best_params_"
   ]
  },
  {
   "cell_type": "code",
   "execution_count": 54,
   "metadata": {},
   "outputs": [
    {
     "data": {
      "text/plain": [
       "2.647726088975526"
      ]
     },
     "execution_count": 54,
     "metadata": {},
     "output_type": "execute_result"
    }
   ],
   "source": [
    "np.sqrt(-forest_gs.best_score_)"
   ]
  },
  {
   "cell_type": "code",
   "execution_count": 55,
   "metadata": {},
   "outputs": [
    {
     "data": {
      "text/plain": [
       "array([2.75880949, 2.69580572, 2.70427392, 2.64772609, 2.74484858,\n",
       "       2.68235995])"
      ]
     },
     "execution_count": 55,
     "metadata": {},
     "output_type": "execute_result"
    }
   ],
   "source": [
    "np.sqrt(-forest_gs.cv_results_[\"mean_test_score\"])"
   ]
  },
  {
   "cell_type": "code",
   "execution_count": 56,
   "metadata": {},
   "outputs": [
    {
     "data": {
      "text/plain": [
       "2.6107241937423704"
      ]
     },
     "execution_count": 56,
     "metadata": {},
     "output_type": "execute_result"
    }
   ],
   "source": [
    "rfr_pipe = Pipeline([\n",
    "    ('ct', ct_pipe),\n",
    "    ('forest_reg', RandomForestRegressor(n_estimators = 50, max_features = 8, n_jobs = -1, random_state = 3))\n",
    "])\n",
    "\n",
    "rfr_score = cross_val_score(rfr_pipe, train_X, train_y, scoring = \"neg_mean_squared_error\", cv = 5)\n",
    "rfr_rmse = np.sqrt(-rfr_score)\n",
    "rfr_rmse.mean()"
   ]
  },
  {
   "cell_type": "markdown",
   "metadata": {},
   "source": [
    "## Apply Model to Test Set"
   ]
  },
  {
   "cell_type": "code",
   "execution_count": 64,
   "metadata": {},
   "outputs": [],
   "source": [
    "path = \"/Users/powers/Downloads/yellow_tripdata_2009-02.csv\"\n",
    "test = pd.read_csv(path, nrows = 20, dtype=dtype, parse_dates=[\"Trip_Pickup_DateTime\"])"
   ]
  },
  {
   "cell_type": "code",
   "execution_count": 66,
   "metadata": {},
   "outputs": [],
   "source": [
    "test = test.rename(\n",
    "  columns={\n",
    "#     \"Trip_Pickup_DateTime\": \"key\",\n",
    "    \"Fare_Amt\": \"fare_amount\", \n",
    "    \"Trip_Pickup_DateTime\": \"pickup_datetime\",\n",
    "    \"Trip_Distance\": \"abs_distance\",\n",
    "    \"Start_Lon\": \"pickup_longitude\",\n",
    "    \"Start_Lat\": \"pickup_latitude\",\n",
    "    \"End_Lon\": \"dropoff_longitude\",\n",
    "    \"End_Lat\": \"dropoff_latitude\",\n",
    "    \"Passenger_Count\": \"passenger_count\"\n",
    "  }\n",
    ")"
   ]
  },
  {
   "cell_type": "code",
   "execution_count": 67,
   "metadata": {},
   "outputs": [],
   "source": [
    "test = test[[\n",
    "    \"fare_amount\",\n",
    "    \"pickup_datetime\",\n",
    "    \"abs_distance\",\n",
    "    \"pickup_longitude\",\n",
    "    \"pickup_latitude\",\n",
    "    \"dropoff_longitude\",\n",
    "    \"dropoff_latitude\",\n",
    "    \"passenger_count\"\n",
    "]]"
   ]
  },
  {
   "cell_type": "code",
   "execution_count": 69,
   "metadata": {},
   "outputs": [],
   "source": [
    "test_X = XandY(test, test_set = True)"
   ]
  },
  {
   "cell_type": "code",
   "execution_count": 70,
   "metadata": {},
   "outputs": [],
   "source": [
    "final_model = forest_gs.best_estimator_\n",
    "test[\"fare_amount_pred\"] = final_model.predict(test_X)"
   ]
  },
  {
   "cell_type": "code",
   "execution_count": 71,
   "metadata": {},
   "outputs": [
    {
     "data": {
      "text/html": [
       "<div>\n",
       "<style scoped>\n",
       "    .dataframe tbody tr th:only-of-type {\n",
       "        vertical-align: middle;\n",
       "    }\n",
       "\n",
       "    .dataframe tbody tr th {\n",
       "        vertical-align: top;\n",
       "    }\n",
       "\n",
       "    .dataframe thead th {\n",
       "        text-align: right;\n",
       "    }\n",
       "</style>\n",
       "<table border=\"1\" class=\"dataframe\">\n",
       "  <thead>\n",
       "    <tr style=\"text-align: right;\">\n",
       "      <th></th>\n",
       "      <th>fare_amount</th>\n",
       "      <th>pickup_datetime</th>\n",
       "      <th>abs_distance</th>\n",
       "      <th>pickup_longitude</th>\n",
       "      <th>pickup_latitude</th>\n",
       "      <th>dropoff_longitude</th>\n",
       "      <th>dropoff_latitude</th>\n",
       "      <th>passenger_count</th>\n",
       "      <th>fare_amount_pred</th>\n",
       "    </tr>\n",
       "  </thead>\n",
       "  <tbody>\n",
       "    <tr>\n",
       "      <th>0</th>\n",
       "      <td>6.9</td>\n",
       "      <td>2009-02-03 08:25:00</td>\n",
       "      <td>1.60</td>\n",
       "      <td>-73.992768</td>\n",
       "      <td>40.758325</td>\n",
       "      <td>-73.994710</td>\n",
       "      <td>40.739723</td>\n",
       "      <td>1</td>\n",
       "      <td>6.725000</td>\n",
       "    </tr>\n",
       "    <tr>\n",
       "      <th>1</th>\n",
       "      <td>10.5</td>\n",
       "      <td>2009-02-28 00:26:00</td>\n",
       "      <td>3.05</td>\n",
       "      <td>0.000000</td>\n",
       "      <td>0.000000</td>\n",
       "      <td>0.000000</td>\n",
       "      <td>0.000000</td>\n",
       "      <td>5</td>\n",
       "      <td>7.660000</td>\n",
       "    </tr>\n",
       "    <tr>\n",
       "      <th>2</th>\n",
       "      <td>5.7</td>\n",
       "      <td>2009-02-22 00:39:23</td>\n",
       "      <td>1.50</td>\n",
       "      <td>-73.137393</td>\n",
       "      <td>41.366138</td>\n",
       "      <td>-73.137393</td>\n",
       "      <td>41.366138</td>\n",
       "      <td>1</td>\n",
       "      <td>7.486667</td>\n",
       "    </tr>\n",
       "    <tr>\n",
       "      <th>3</th>\n",
       "      <td>6.1</td>\n",
       "      <td>2009-02-28 12:47:00</td>\n",
       "      <td>1.42</td>\n",
       "      <td>-73.980458</td>\n",
       "      <td>40.748445</td>\n",
       "      <td>-73.996103</td>\n",
       "      <td>40.737095</td>\n",
       "      <td>1</td>\n",
       "      <td>7.360000</td>\n",
       "    </tr>\n",
       "    <tr>\n",
       "      <th>4</th>\n",
       "      <td>6.9</td>\n",
       "      <td>2009-02-05 18:34:35</td>\n",
       "      <td>1.50</td>\n",
       "      <td>-73.137393</td>\n",
       "      <td>41.366138</td>\n",
       "      <td>-73.137393</td>\n",
       "      <td>41.366138</td>\n",
       "      <td>1</td>\n",
       "      <td>7.170333</td>\n",
       "    </tr>\n",
       "    <tr>\n",
       "      <th>5</th>\n",
       "      <td>6.9</td>\n",
       "      <td>2009-02-28 09:36:00</td>\n",
       "      <td>1.64</td>\n",
       "      <td>-73.972162</td>\n",
       "      <td>40.745573</td>\n",
       "      <td>-73.972118</td>\n",
       "      <td>40.762553</td>\n",
       "      <td>1</td>\n",
       "      <td>6.345000</td>\n",
       "    </tr>\n",
       "    <tr>\n",
       "      <th>6</th>\n",
       "      <td>7.3</td>\n",
       "      <td>2009-02-07 11:09:42</td>\n",
       "      <td>1.80</td>\n",
       "      <td>-73.989546</td>\n",
       "      <td>40.739078</td>\n",
       "      <td>-73.974859</td>\n",
       "      <td>40.758863</td>\n",
       "      <td>1</td>\n",
       "      <td>7.680000</td>\n",
       "    </tr>\n",
       "    <tr>\n",
       "      <th>7</th>\n",
       "      <td>3.7</td>\n",
       "      <td>2009-02-03 09:54:30</td>\n",
       "      <td>0.50</td>\n",
       "      <td>-73.990944</td>\n",
       "      <td>40.728530</td>\n",
       "      <td>-73.997339</td>\n",
       "      <td>40.725158</td>\n",
       "      <td>1</td>\n",
       "      <td>4.100000</td>\n",
       "    </tr>\n",
       "    <tr>\n",
       "      <th>8</th>\n",
       "      <td>25.7</td>\n",
       "      <td>2009-02-28 13:26:00</td>\n",
       "      <td>9.80</td>\n",
       "      <td>-73.874482</td>\n",
       "      <td>40.774083</td>\n",
       "      <td>-73.978428</td>\n",
       "      <td>40.790810</td>\n",
       "      <td>1</td>\n",
       "      <td>25.180000</td>\n",
       "    </tr>\n",
       "    <tr>\n",
       "      <th>9</th>\n",
       "      <td>7.3</td>\n",
       "      <td>2009-02-28 04:42:00</td>\n",
       "      <td>2.11</td>\n",
       "      <td>-74.007608</td>\n",
       "      <td>40.725607</td>\n",
       "      <td>-73.986117</td>\n",
       "      <td>40.734463</td>\n",
       "      <td>4</td>\n",
       "      <td>8.060000</td>\n",
       "    </tr>\n",
       "  </tbody>\n",
       "</table>\n",
       "</div>"
      ],
      "text/plain": [
       "   fare_amount     pickup_datetime  abs_distance  pickup_longitude  \\\n",
       "0          6.9 2009-02-03 08:25:00          1.60        -73.992768   \n",
       "1         10.5 2009-02-28 00:26:00          3.05          0.000000   \n",
       "2          5.7 2009-02-22 00:39:23          1.50        -73.137393   \n",
       "3          6.1 2009-02-28 12:47:00          1.42        -73.980458   \n",
       "4          6.9 2009-02-05 18:34:35          1.50        -73.137393   \n",
       "5          6.9 2009-02-28 09:36:00          1.64        -73.972162   \n",
       "6          7.3 2009-02-07 11:09:42          1.80        -73.989546   \n",
       "7          3.7 2009-02-03 09:54:30          0.50        -73.990944   \n",
       "8         25.7 2009-02-28 13:26:00          9.80        -73.874482   \n",
       "9          7.3 2009-02-28 04:42:00          2.11        -74.007608   \n",
       "\n",
       "   pickup_latitude  dropoff_longitude  dropoff_latitude  passenger_count  \\\n",
       "0        40.758325         -73.994710         40.739723                1   \n",
       "1         0.000000           0.000000          0.000000                5   \n",
       "2        41.366138         -73.137393         41.366138                1   \n",
       "3        40.748445         -73.996103         40.737095                1   \n",
       "4        41.366138         -73.137393         41.366138                1   \n",
       "5        40.745573         -73.972118         40.762553                1   \n",
       "6        40.739078         -73.974859         40.758863                1   \n",
       "7        40.728530         -73.997339         40.725158                1   \n",
       "8        40.774083         -73.978428         40.790810                1   \n",
       "9        40.725607         -73.986117         40.734463                4   \n",
       "\n",
       "   fare_amount_pred  \n",
       "0          6.725000  \n",
       "1          7.660000  \n",
       "2          7.486667  \n",
       "3          7.360000  \n",
       "4          7.170333  \n",
       "5          6.345000  \n",
       "6          7.680000  \n",
       "7          4.100000  \n",
       "8         25.180000  \n",
       "9          8.060000  "
      ]
     },
     "execution_count": 71,
     "metadata": {},
     "output_type": "execute_result"
    }
   ],
   "source": [
    "test.head(10)"
   ]
  },
  {
   "cell_type": "markdown",
   "metadata": {},
   "source": [
    "## Interpretation of results\n",
    "\n",
    "Our model isn't as accurate for garbage data points (e.g. data with 0 pickup_longitude and 0 pickup_latitude).\n",
    "\n",
    "Our model is also less accurate for really short trips.\n",
    "\n",
    "For longer trips, the model is returning accurate predictions."
   ]
  }
 ],
 "metadata": {
  "kernelspec": {
   "display_name": "Python 3",
   "language": "python",
   "name": "python3"
  },
  "language_info": {
   "codemirror_mode": {
    "name": "ipython",
    "version": 3
   },
   "file_extension": ".py",
   "mimetype": "text/x-python",
   "name": "python",
   "nbconvert_exporter": "python",
   "pygments_lexer": "ipython3",
   "version": "3.7.10"
  }
 },
 "nbformat": 4,
 "nbformat_minor": 2
}
