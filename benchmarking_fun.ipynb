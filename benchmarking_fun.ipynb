{
 "cells": [
  {
   "cell_type": "markdown",
   "id": "fb7b29b9",
   "metadata": {},
   "source": [
    "## Benchmarking\n",
    "\n",
    "In a distributed environment, the same computation can have different runtimes, depending on the size of the cluster, partitioning of the data, computational parallelism, and other factors.\n",
    "\n",
    "This notebook demonstrates how turning different knobs impacts computation time.  Here are the main takeaways:\n",
    "\n",
    "* Dask is a lot faster when data is spread across multiple partitions so the computations can be run in parallel\n",
    "* Persisting DataFrames in memory can be a great performance optimization\n",
    "* Figuring out the optimal partitioning for a given computation is challenging\n",
    "* Lazy execution also makes benchmarking challenging"
   ]
  },
  {
   "cell_type": "markdown",
   "id": "99ee0643",
   "metadata": {},
   "source": [
    "### Setup Coiled cluster for Dask computation environment"
   ]
  },
  {
   "cell_type": "code",
   "execution_count": 112,
   "id": "66bfbe4d",
   "metadata": {},
   "outputs": [],
   "source": [
    "import coiled\n",
    "from dask.distributed import Client\n",
    "import dask.dataframe as dd\n",
    "import time"
   ]
  },
  {
   "cell_type": "code",
   "execution_count": 113,
   "id": "f46b4e2d",
   "metadata": {},
   "outputs": [],
   "source": [
    "import warnings\n",
    "warnings.filterwarnings('ignore')"
   ]
  },
  {
   "cell_type": "code",
   "execution_count": 114,
   "id": "56c6c396",
   "metadata": {},
   "outputs": [
    {
     "name": "stdout",
     "output_type": "stream",
     "text": [
      "Found software environment build\n"
     ]
    },
    {
     "data": {
      "text/html": [
       "<pre style=\"white-space:pre;overflow-x:auto;line-height:normal;font-family:Menlo,'DejaVu Sans Mono',consolas,'Courier New',monospace\"></pre>\n"
      ],
      "text/plain": []
     },
     "metadata": {},
     "output_type": "display_data"
    }
   ],
   "source": [
    "cluster = coiled.Cluster(name=\"benchmarking\", n_workers=10)"
   ]
  },
  {
   "cell_type": "code",
   "execution_count": 115,
   "id": "5cc4ef2a",
   "metadata": {},
   "outputs": [],
   "source": [
    "client = Client(cluster)"
   ]
  },
  {
   "cell_type": "markdown",
   "id": "d351912d",
   "metadata": {},
   "source": [
    "## Count benchmarking\n",
    "\n",
    "This section reads a month of the NYC taxi data into different Dask DataFrames, performs a count, and measures computation time.  Here are the scenarios examined:\n",
    "\n",
    "1. Persisted DataFrame with 41 partitions\n",
    "2. Unpersisted DataFrame with 41 partitions\n",
    "3. Unpersisted DataFrame with 11 partitions\n",
    "4. Unpersisted DataFrame with 1 partition\n",
    "\n",
    "DataFrames with multiple partitions can perform count computations in parallel and that's why they're much faster!  Let's quantify the speed gains Dask provides."
   ]
  },
  {
   "cell_type": "code",
   "execution_count": 116,
   "id": "07741b4e",
   "metadata": {},
   "outputs": [],
   "source": [
    "dtype = {\n",
    "    \"payment_type\": \"UInt8\",\n",
    "    \"VendorID\": \"UInt8\",\n",
    "    \"passenger_count\": \"UInt8\",\n",
    "    \"RatecodeID\": \"UInt8\",\n",
    "    \"store_and_fwd_flag\": \"category\",\n",
    "    \"PULocationID\": \"UInt16\",\n",
    "    \"DOLocationID\": \"UInt16\",\n",
    "}\n",
    "path = \"s3://nyc-tlc/trip data/yellow_tripdata_2019-01.csv\""
   ]
  },
  {
   "cell_type": "markdown",
   "id": "595d34c0",
   "metadata": {},
   "source": [
    "### Create Persisted DataFrame"
   ]
  },
  {
   "cell_type": "code",
   "execution_count": 117,
   "id": "959b38d0",
   "metadata": {},
   "outputs": [],
   "source": [
    "df = dd.read_csv(\n",
    "    \"s3://nyc-tlc/trip data/yellow_tripdata_2019-01.csv\",\n",
    "    parse_dates=[\"tpep_pickup_datetime\", \"tpep_dropoff_datetime\"],\n",
    "    dtype=dtype,\n",
    "    storage_options={\"anon\": True},\n",
    "    blocksize=\"16 MiB\",\n",
    ").persist()"
   ]
  },
  {
   "cell_type": "code",
   "execution_count": 118,
   "id": "0915f60f",
   "metadata": {},
   "outputs": [
    {
     "data": {
      "text/plain": [
       "41"
      ]
     },
     "execution_count": 118,
     "metadata": {},
     "output_type": "execute_result"
    }
   ],
   "source": [
    "df.npartitions"
   ]
  },
  {
   "cell_type": "markdown",
   "id": "cc14f81b",
   "metadata": {},
   "source": [
    "### Create unpersisted DataFrame"
   ]
  },
  {
   "cell_type": "code",
   "execution_count": 119,
   "id": "b13e107c",
   "metadata": {},
   "outputs": [],
   "source": [
    "df_unpersisted = dd.read_csv(\n",
    "    path,\n",
    "    parse_dates=[\"tpep_pickup_datetime\", \"tpep_dropoff_datetime\"],\n",
    "    dtype=dtype,\n",
    "    storage_options={\"anon\": True},\n",
    "    blocksize=\"16 MiB\",\n",
    ")"
   ]
  },
  {
   "cell_type": "code",
   "execution_count": 120,
   "id": "6197cfe7",
   "metadata": {},
   "outputs": [
    {
     "data": {
      "text/plain": [
       "41"
      ]
     },
     "execution_count": 120,
     "metadata": {},
     "output_type": "execute_result"
    }
   ],
   "source": [
    "df_unpersisted.npartitions"
   ]
  },
  {
   "cell_type": "markdown",
   "id": "178f52af",
   "metadata": {},
   "source": [
    "### Create unpersisted DataFrame without setting blocksize"
   ]
  },
  {
   "cell_type": "code",
   "execution_count": 121,
   "id": "eced95b3",
   "metadata": {},
   "outputs": [],
   "source": [
    "df_no_blocksize = dd.read_csv(\n",
    "    path,\n",
    "    parse_dates=[\"tpep_pickup_datetime\", \"tpep_dropoff_datetime\"],\n",
    "    dtype=dtype,\n",
    "    storage_options={\"anon\": True},\n",
    ")"
   ]
  },
  {
   "cell_type": "code",
   "execution_count": 122,
   "id": "09d8a134",
   "metadata": {},
   "outputs": [
    {
     "data": {
      "text/plain": [
       "11"
      ]
     },
     "execution_count": 122,
     "metadata": {},
     "output_type": "execute_result"
    }
   ],
   "source": [
    "df_no_blocksize.npartitions"
   ]
  },
  {
   "cell_type": "markdown",
   "id": "96351737",
   "metadata": {},
   "source": [
    "### Create unpersisted DataFrame with blocksize set to None"
   ]
  },
  {
   "cell_type": "code",
   "execution_count": 123,
   "id": "5d503e88",
   "metadata": {},
   "outputs": [],
   "source": [
    "df_none_blocksize = dd.read_csv(\n",
    "    path,\n",
    "    parse_dates=[\"tpep_pickup_datetime\", \"tpep_dropoff_datetime\"],\n",
    "    dtype=dtype,\n",
    "    storage_options={\"anon\": True},\n",
    "    blocksize=None,\n",
    ")"
   ]
  },
  {
   "cell_type": "code",
   "execution_count": 124,
   "id": "83c446d8",
   "metadata": {},
   "outputs": [
    {
     "data": {
      "text/plain": [
       "1"
      ]
     },
     "execution_count": 124,
     "metadata": {},
     "output_type": "execute_result"
    }
   ],
   "source": [
    "df_none_blocksize.npartitions"
   ]
  },
  {
   "cell_type": "markdown",
   "id": "2ac113ba",
   "metadata": {},
   "source": [
    "### Define some benchmark helper functions"
   ]
  },
  {
   "cell_type": "code",
   "execution_count": 86,
   "id": "b2abd89c",
   "metadata": {},
   "outputs": [],
   "source": [
    "dask_benchmarks = {\n",
    "    'duration': [],  # in seconds\n",
    "    'task': [],\n",
    "}"
   ]
  },
  {
   "cell_type": "code",
   "execution_count": 87,
   "id": "0ad88bb0",
   "metadata": {},
   "outputs": [],
   "source": [
    "def benchmark(f, df, benchmarks, name, **kwargs):\n",
    "    start_time = time.time()\n",
    "    ret = f(df, **kwargs)\n",
    "    benchmarks['duration'].append(time.time() - start_time)\n",
    "    benchmarks['task'].append(name)\n",
    "    print(f\"{name} took: {benchmarks['duration'][-1]} seconds\")\n",
    "    return benchmarks['duration'][-1]"
   ]
  },
  {
   "cell_type": "markdown",
   "id": "7a1b951d",
   "metadata": {},
   "source": [
    "### Run the count benchmarks with the different DataFrames"
   ]
  },
  {
   "cell_type": "code",
   "execution_count": 88,
   "id": "69efe96e",
   "metadata": {},
   "outputs": [],
   "source": [
    "def count(df):\n",
    "    return len(df)"
   ]
  },
  {
   "cell_type": "code",
   "execution_count": 89,
   "id": "4c89ab60",
   "metadata": {},
   "outputs": [
    {
     "name": "stdout",
     "output_type": "stream",
     "text": [
      "count_persisted took: 0.15817594528198242 seconds\n"
     ]
    },
    {
     "data": {
      "text/plain": [
       "0.15817594528198242"
      ]
     },
     "execution_count": 89,
     "metadata": {},
     "output_type": "execute_result"
    }
   ],
   "source": [
    "benchmark(count, df=df, benchmarks=dask_benchmarks, name='count_persisted')"
   ]
  },
  {
   "cell_type": "code",
   "execution_count": 90,
   "id": "1135e10a",
   "metadata": {},
   "outputs": [
    {
     "name": "stdout",
     "output_type": "stream",
     "text": [
      "count_unpersisted took: 5.21872615814209 seconds\n"
     ]
    },
    {
     "data": {
      "text/plain": [
       "5.21872615814209"
      ]
     },
     "execution_count": 90,
     "metadata": {},
     "output_type": "execute_result"
    }
   ],
   "source": [
    "benchmark(count, df=df_unpersisted, benchmarks=dask_benchmarks, name='count_unpersisted')"
   ]
  },
  {
   "cell_type": "code",
   "execution_count": 91,
   "id": "95f7b19f",
   "metadata": {},
   "outputs": [
    {
     "name": "stdout",
     "output_type": "stream",
     "text": [
      "count_no_blocksize took: 5.67988395690918 seconds\n"
     ]
    },
    {
     "data": {
      "text/plain": [
       "5.67988395690918"
      ]
     },
     "execution_count": 91,
     "metadata": {},
     "output_type": "execute_result"
    }
   ],
   "source": [
    "benchmark(count, df=df_no_blocksize, benchmarks=dask_benchmarks, name='count_no_blocksize')"
   ]
  },
  {
   "cell_type": "code",
   "execution_count": 92,
   "id": "4f6f562e",
   "metadata": {},
   "outputs": [
    {
     "name": "stdout",
     "output_type": "stream",
     "text": [
      "count_none_blocksize took: 33.84476184844971 seconds\n"
     ]
    },
    {
     "data": {
      "text/plain": [
       "33.84476184844971"
      ]
     },
     "execution_count": 92,
     "metadata": {},
     "output_type": "execute_result"
    }
   ],
   "source": [
    "benchmark(count, df=df_none_blocksize, benchmarks=dask_benchmarks, name='count_none_blocksize')"
   ]
  },
  {
   "cell_type": "markdown",
   "id": "be4171b9",
   "metadata": {},
   "source": [
    "## Count benchmarking conclusions\n",
    "\n",
    "Running the count operation on a persisted DataFrame with 41 partitions is by far the fastest.  The operation is much slower when the DataFrame isn't persisted and when fewer partitions are used.  Using one partition is particularily slow and "
   ]
  },
  {
   "cell_type": "markdown",
   "id": "a42f06be",
   "metadata": {},
   "source": [
    "## mean benchmarking\n",
    "\n",
    "Let's calculate the mean fare using the same DataFrames as above and see if the computation time results are similar."
   ]
  },
  {
   "cell_type": "code",
   "execution_count": 94,
   "id": "0a3e8640",
   "metadata": {},
   "outputs": [],
   "source": [
    "def mean(df):\n",
    "    return df.fare_amount.mean().compute()"
   ]
  },
  {
   "cell_type": "code",
   "execution_count": 95,
   "id": "5da7ac7a",
   "metadata": {},
   "outputs": [
    {
     "name": "stdout",
     "output_type": "stream",
     "text": [
      "mean_persisted took: 0.2158820629119873 seconds\n"
     ]
    },
    {
     "data": {
      "text/plain": [
       "0.2158820629119873"
      ]
     },
     "execution_count": 95,
     "metadata": {},
     "output_type": "execute_result"
    }
   ],
   "source": [
    "benchmark(mean, df=df, benchmarks=dask_benchmarks, name='mean_persisted')"
   ]
  },
  {
   "cell_type": "code",
   "execution_count": 96,
   "id": "4536a424",
   "metadata": {},
   "outputs": [
    {
     "name": "stdout",
     "output_type": "stream",
     "text": [
      "mean_unpersisted took: 5.3857622146606445 seconds\n"
     ]
    },
    {
     "data": {
      "text/plain": [
       "5.3857622146606445"
      ]
     },
     "execution_count": 96,
     "metadata": {},
     "output_type": "execute_result"
    }
   ],
   "source": [
    "benchmark(mean, df=df_unpersisted, benchmarks=dask_benchmarks, name='mean_unpersisted')"
   ]
  },
  {
   "cell_type": "code",
   "execution_count": 97,
   "id": "24eeb288",
   "metadata": {},
   "outputs": [
    {
     "name": "stdout",
     "output_type": "stream",
     "text": [
      "mean_no_blocksize took: 5.542102098464966 seconds\n"
     ]
    },
    {
     "data": {
      "text/plain": [
       "5.542102098464966"
      ]
     },
     "execution_count": 97,
     "metadata": {},
     "output_type": "execute_result"
    }
   ],
   "source": [
    "benchmark(mean, df=df_no_blocksize, benchmarks=dask_benchmarks, name='mean_no_blocksize')"
   ]
  },
  {
   "cell_type": "code",
   "execution_count": 98,
   "id": "84edf4a2",
   "metadata": {},
   "outputs": [
    {
     "name": "stdout",
     "output_type": "stream",
     "text": [
      "mean_none_blocksize took: 36.455934047698975 seconds\n"
     ]
    },
    {
     "data": {
      "text/plain": [
       "36.455934047698975"
      ]
     },
     "execution_count": 98,
     "metadata": {},
     "output_type": "execute_result"
    }
   ],
   "source": [
    "benchmark(mean, df=df_none_blocksize, benchmarks=dask_benchmarks, name='mean_none_blocksize')"
   ]
  },
  {
   "cell_type": "markdown",
   "id": "e6af46bc",
   "metadata": {},
   "source": [
    "## Group by benchmarking"
   ]
  },
  {
   "cell_type": "code",
   "execution_count": 135,
   "id": "b6e84dee",
   "metadata": {},
   "outputs": [
    {
     "data": {
      "text/plain": [
       "0.6893270015716553"
      ]
     },
     "execution_count": 135,
     "metadata": {},
     "output_type": "execute_result"
    }
   ],
   "source": [
    "start_time = time.time()\n",
    "df.groupby('pickup_day').fare_amount.sum().compute()\n",
    "time.time() - start_time"
   ]
  },
  {
   "cell_type": "code",
   "execution_count": 136,
   "id": "7624154e",
   "metadata": {},
   "outputs": [],
   "source": [
    "def light_benchmark(f):\n",
    "  start_time = time.time()\n",
    "  f()\n",
    "  return time.time() - start_time"
   ]
  },
  {
   "cell_type": "code",
   "execution_count": 143,
   "id": "f26f3c38",
   "metadata": {},
   "outputs": [
    {
     "data": {
      "text/plain": [
       "0.6474931240081787"
      ]
     },
     "execution_count": 143,
     "metadata": {},
     "output_type": "execute_result"
    }
   ],
   "source": [
    "light_benchmark(lambda: df.groupby('pickup_day').fare_amount.sum().compute())"
   ]
  },
  {
   "cell_type": "code",
   "execution_count": 139,
   "id": "7dee64bc",
   "metadata": {},
   "outputs": [
    {
     "data": {
      "text/html": [
       "<div>\n",
       "<style scoped>\n",
       "    .dataframe tbody tr th:only-of-type {\n",
       "        vertical-align: middle;\n",
       "    }\n",
       "\n",
       "    .dataframe tbody tr th {\n",
       "        vertical-align: top;\n",
       "    }\n",
       "\n",
       "    .dataframe thead th {\n",
       "        text-align: right;\n",
       "    }\n",
       "</style>\n",
       "<table border=\"1\" class=\"dataframe\">\n",
       "  <thead>\n",
       "    <tr style=\"text-align: right;\">\n",
       "      <th></th>\n",
       "      <th>VendorID</th>\n",
       "      <th>tpep_pickup_datetime</th>\n",
       "      <th>tpep_dropoff_datetime</th>\n",
       "      <th>passenger_count</th>\n",
       "      <th>trip_distance</th>\n",
       "      <th>RatecodeID</th>\n",
       "      <th>store_and_fwd_flag</th>\n",
       "      <th>PULocationID</th>\n",
       "      <th>DOLocationID</th>\n",
       "      <th>payment_type</th>\n",
       "      <th>fare_amount</th>\n",
       "      <th>extra</th>\n",
       "      <th>mta_tax</th>\n",
       "      <th>tip_amount</th>\n",
       "      <th>tolls_amount</th>\n",
       "      <th>improvement_surcharge</th>\n",
       "      <th>total_amount</th>\n",
       "      <th>congestion_surcharge</th>\n",
       "      <th>pickup_day</th>\n",
       "    </tr>\n",
       "  </thead>\n",
       "  <tbody>\n",
       "    <tr>\n",
       "      <th>0</th>\n",
       "      <td>1</td>\n",
       "      <td>2019-01-01 00:46:40</td>\n",
       "      <td>2019-01-01 00:53:20</td>\n",
       "      <td>1</td>\n",
       "      <td>1.5</td>\n",
       "      <td>1</td>\n",
       "      <td>N</td>\n",
       "      <td>151</td>\n",
       "      <td>239</td>\n",
       "      <td>1</td>\n",
       "      <td>7.0</td>\n",
       "      <td>0.5</td>\n",
       "      <td>0.5</td>\n",
       "      <td>1.65</td>\n",
       "      <td>0.0</td>\n",
       "      <td>0.3</td>\n",
       "      <td>9.95</td>\n",
       "      <td>NaN</td>\n",
       "      <td>2019-01-01</td>\n",
       "    </tr>\n",
       "    <tr>\n",
       "      <th>1</th>\n",
       "      <td>1</td>\n",
       "      <td>2019-01-01 00:59:47</td>\n",
       "      <td>2019-01-01 01:18:59</td>\n",
       "      <td>1</td>\n",
       "      <td>2.6</td>\n",
       "      <td>1</td>\n",
       "      <td>N</td>\n",
       "      <td>239</td>\n",
       "      <td>246</td>\n",
       "      <td>1</td>\n",
       "      <td>14.0</td>\n",
       "      <td>0.5</td>\n",
       "      <td>0.5</td>\n",
       "      <td>1.00</td>\n",
       "      <td>0.0</td>\n",
       "      <td>0.3</td>\n",
       "      <td>16.30</td>\n",
       "      <td>NaN</td>\n",
       "      <td>2019-01-01</td>\n",
       "    </tr>\n",
       "    <tr>\n",
       "      <th>2</th>\n",
       "      <td>2</td>\n",
       "      <td>2018-12-21 13:48:30</td>\n",
       "      <td>2018-12-21 13:52:40</td>\n",
       "      <td>3</td>\n",
       "      <td>0.0</td>\n",
       "      <td>1</td>\n",
       "      <td>N</td>\n",
       "      <td>236</td>\n",
       "      <td>236</td>\n",
       "      <td>1</td>\n",
       "      <td>4.5</td>\n",
       "      <td>0.5</td>\n",
       "      <td>0.5</td>\n",
       "      <td>0.00</td>\n",
       "      <td>0.0</td>\n",
       "      <td>0.3</td>\n",
       "      <td>5.80</td>\n",
       "      <td>NaN</td>\n",
       "      <td>2018-12-21</td>\n",
       "    </tr>\n",
       "    <tr>\n",
       "      <th>3</th>\n",
       "      <td>2</td>\n",
       "      <td>2018-11-28 15:52:25</td>\n",
       "      <td>2018-11-28 15:55:45</td>\n",
       "      <td>5</td>\n",
       "      <td>0.0</td>\n",
       "      <td>1</td>\n",
       "      <td>N</td>\n",
       "      <td>193</td>\n",
       "      <td>193</td>\n",
       "      <td>2</td>\n",
       "      <td>3.5</td>\n",
       "      <td>0.5</td>\n",
       "      <td>0.5</td>\n",
       "      <td>0.00</td>\n",
       "      <td>0.0</td>\n",
       "      <td>0.3</td>\n",
       "      <td>7.55</td>\n",
       "      <td>NaN</td>\n",
       "      <td>2018-11-28</td>\n",
       "    </tr>\n",
       "    <tr>\n",
       "      <th>4</th>\n",
       "      <td>2</td>\n",
       "      <td>2018-11-28 15:56:57</td>\n",
       "      <td>2018-11-28 15:58:33</td>\n",
       "      <td>5</td>\n",
       "      <td>0.0</td>\n",
       "      <td>2</td>\n",
       "      <td>N</td>\n",
       "      <td>193</td>\n",
       "      <td>193</td>\n",
       "      <td>2</td>\n",
       "      <td>52.0</td>\n",
       "      <td>0.0</td>\n",
       "      <td>0.5</td>\n",
       "      <td>0.00</td>\n",
       "      <td>0.0</td>\n",
       "      <td>0.3</td>\n",
       "      <td>55.55</td>\n",
       "      <td>NaN</td>\n",
       "      <td>2018-11-28</td>\n",
       "    </tr>\n",
       "  </tbody>\n",
       "</table>\n",
       "</div>"
      ],
      "text/plain": [
       "   VendorID tpep_pickup_datetime tpep_dropoff_datetime  passenger_count  \\\n",
       "0         1  2019-01-01 00:46:40   2019-01-01 00:53:20                1   \n",
       "1         1  2019-01-01 00:59:47   2019-01-01 01:18:59                1   \n",
       "2         2  2018-12-21 13:48:30   2018-12-21 13:52:40                3   \n",
       "3         2  2018-11-28 15:52:25   2018-11-28 15:55:45                5   \n",
       "4         2  2018-11-28 15:56:57   2018-11-28 15:58:33                5   \n",
       "\n",
       "   trip_distance  RatecodeID store_and_fwd_flag  PULocationID  DOLocationID  \\\n",
       "0            1.5           1                  N           151           239   \n",
       "1            2.6           1                  N           239           246   \n",
       "2            0.0           1                  N           236           236   \n",
       "3            0.0           1                  N           193           193   \n",
       "4            0.0           2                  N           193           193   \n",
       "\n",
       "   payment_type  fare_amount  extra  mta_tax  tip_amount  tolls_amount  \\\n",
       "0             1          7.0    0.5      0.5        1.65           0.0   \n",
       "1             1         14.0    0.5      0.5        1.00           0.0   \n",
       "2             1          4.5    0.5      0.5        0.00           0.0   \n",
       "3             2          3.5    0.5      0.5        0.00           0.0   \n",
       "4             2         52.0    0.0      0.5        0.00           0.0   \n",
       "\n",
       "   improvement_surcharge  total_amount  congestion_surcharge  pickup_day  \n",
       "0                    0.3          9.95                   NaN  2019-01-01  \n",
       "1                    0.3         16.30                   NaN  2019-01-01  \n",
       "2                    0.3          5.80                   NaN  2018-12-21  \n",
       "3                    0.3          7.55                   NaN  2018-11-28  \n",
       "4                    0.3         55.55                   NaN  2018-11-28  "
      ]
     },
     "execution_count": 139,
     "metadata": {},
     "output_type": "execute_result"
    }
   ],
   "source": [
    "df.head()"
   ]
  },
  {
   "cell_type": "code",
   "execution_count": 140,
   "id": "7a6448d4",
   "metadata": {},
   "outputs": [],
   "source": [
    "df_unpersisted[\"pickup_day\"] = df_unpersisted[\"tpep_pickup_datetime\"].dt.date"
   ]
  },
  {
   "cell_type": "code",
   "execution_count": 142,
   "id": "b9e3578c",
   "metadata": {},
   "outputs": [
    {
     "data": {
      "text/html": [
       "<div>\n",
       "<style scoped>\n",
       "    .dataframe tbody tr th:only-of-type {\n",
       "        vertical-align: middle;\n",
       "    }\n",
       "\n",
       "    .dataframe tbody tr th {\n",
       "        vertical-align: top;\n",
       "    }\n",
       "\n",
       "    .dataframe thead th {\n",
       "        text-align: right;\n",
       "    }\n",
       "</style>\n",
       "<table border=\"1\" class=\"dataframe\">\n",
       "  <thead>\n",
       "    <tr style=\"text-align: right;\">\n",
       "      <th></th>\n",
       "      <th>VendorID</th>\n",
       "      <th>tpep_pickup_datetime</th>\n",
       "      <th>tpep_dropoff_datetime</th>\n",
       "      <th>passenger_count</th>\n",
       "      <th>trip_distance</th>\n",
       "      <th>RatecodeID</th>\n",
       "      <th>store_and_fwd_flag</th>\n",
       "      <th>PULocationID</th>\n",
       "      <th>DOLocationID</th>\n",
       "      <th>payment_type</th>\n",
       "      <th>fare_amount</th>\n",
       "      <th>extra</th>\n",
       "      <th>mta_tax</th>\n",
       "      <th>tip_amount</th>\n",
       "      <th>tolls_amount</th>\n",
       "      <th>improvement_surcharge</th>\n",
       "      <th>total_amount</th>\n",
       "      <th>congestion_surcharge</th>\n",
       "      <th>pickup_day</th>\n",
       "    </tr>\n",
       "  </thead>\n",
       "  <tbody>\n",
       "    <tr>\n",
       "      <th>0</th>\n",
       "      <td>1</td>\n",
       "      <td>2019-01-01 00:46:40</td>\n",
       "      <td>2019-01-01 00:53:20</td>\n",
       "      <td>1</td>\n",
       "      <td>1.5</td>\n",
       "      <td>1</td>\n",
       "      <td>N</td>\n",
       "      <td>151</td>\n",
       "      <td>239</td>\n",
       "      <td>1</td>\n",
       "      <td>7.0</td>\n",
       "      <td>0.5</td>\n",
       "      <td>0.5</td>\n",
       "      <td>1.65</td>\n",
       "      <td>0.0</td>\n",
       "      <td>0.3</td>\n",
       "      <td>9.95</td>\n",
       "      <td>NaN</td>\n",
       "      <td>2019-01-01</td>\n",
       "    </tr>\n",
       "    <tr>\n",
       "      <th>1</th>\n",
       "      <td>1</td>\n",
       "      <td>2019-01-01 00:59:47</td>\n",
       "      <td>2019-01-01 01:18:59</td>\n",
       "      <td>1</td>\n",
       "      <td>2.6</td>\n",
       "      <td>1</td>\n",
       "      <td>N</td>\n",
       "      <td>239</td>\n",
       "      <td>246</td>\n",
       "      <td>1</td>\n",
       "      <td>14.0</td>\n",
       "      <td>0.5</td>\n",
       "      <td>0.5</td>\n",
       "      <td>1.00</td>\n",
       "      <td>0.0</td>\n",
       "      <td>0.3</td>\n",
       "      <td>16.30</td>\n",
       "      <td>NaN</td>\n",
       "      <td>2019-01-01</td>\n",
       "    </tr>\n",
       "    <tr>\n",
       "      <th>2</th>\n",
       "      <td>2</td>\n",
       "      <td>2018-12-21 13:48:30</td>\n",
       "      <td>2018-12-21 13:52:40</td>\n",
       "      <td>3</td>\n",
       "      <td>0.0</td>\n",
       "      <td>1</td>\n",
       "      <td>N</td>\n",
       "      <td>236</td>\n",
       "      <td>236</td>\n",
       "      <td>1</td>\n",
       "      <td>4.5</td>\n",
       "      <td>0.5</td>\n",
       "      <td>0.5</td>\n",
       "      <td>0.00</td>\n",
       "      <td>0.0</td>\n",
       "      <td>0.3</td>\n",
       "      <td>5.80</td>\n",
       "      <td>NaN</td>\n",
       "      <td>2018-12-21</td>\n",
       "    </tr>\n",
       "    <tr>\n",
       "      <th>3</th>\n",
       "      <td>2</td>\n",
       "      <td>2018-11-28 15:52:25</td>\n",
       "      <td>2018-11-28 15:55:45</td>\n",
       "      <td>5</td>\n",
       "      <td>0.0</td>\n",
       "      <td>1</td>\n",
       "      <td>N</td>\n",
       "      <td>193</td>\n",
       "      <td>193</td>\n",
       "      <td>2</td>\n",
       "      <td>3.5</td>\n",
       "      <td>0.5</td>\n",
       "      <td>0.5</td>\n",
       "      <td>0.00</td>\n",
       "      <td>0.0</td>\n",
       "      <td>0.3</td>\n",
       "      <td>7.55</td>\n",
       "      <td>NaN</td>\n",
       "      <td>2018-11-28</td>\n",
       "    </tr>\n",
       "    <tr>\n",
       "      <th>4</th>\n",
       "      <td>2</td>\n",
       "      <td>2018-11-28 15:56:57</td>\n",
       "      <td>2018-11-28 15:58:33</td>\n",
       "      <td>5</td>\n",
       "      <td>0.0</td>\n",
       "      <td>2</td>\n",
       "      <td>N</td>\n",
       "      <td>193</td>\n",
       "      <td>193</td>\n",
       "      <td>2</td>\n",
       "      <td>52.0</td>\n",
       "      <td>0.0</td>\n",
       "      <td>0.5</td>\n",
       "      <td>0.00</td>\n",
       "      <td>0.0</td>\n",
       "      <td>0.3</td>\n",
       "      <td>55.55</td>\n",
       "      <td>NaN</td>\n",
       "      <td>2018-11-28</td>\n",
       "    </tr>\n",
       "  </tbody>\n",
       "</table>\n",
       "</div>"
      ],
      "text/plain": [
       "   VendorID tpep_pickup_datetime tpep_dropoff_datetime  passenger_count  \\\n",
       "0         1  2019-01-01 00:46:40   2019-01-01 00:53:20                1   \n",
       "1         1  2019-01-01 00:59:47   2019-01-01 01:18:59                1   \n",
       "2         2  2018-12-21 13:48:30   2018-12-21 13:52:40                3   \n",
       "3         2  2018-11-28 15:52:25   2018-11-28 15:55:45                5   \n",
       "4         2  2018-11-28 15:56:57   2018-11-28 15:58:33                5   \n",
       "\n",
       "   trip_distance  RatecodeID store_and_fwd_flag  PULocationID  DOLocationID  \\\n",
       "0            1.5           1                  N           151           239   \n",
       "1            2.6           1                  N           239           246   \n",
       "2            0.0           1                  N           236           236   \n",
       "3            0.0           1                  N           193           193   \n",
       "4            0.0           2                  N           193           193   \n",
       "\n",
       "   payment_type  fare_amount  extra  mta_tax  tip_amount  tolls_amount  \\\n",
       "0             1          7.0    0.5      0.5        1.65           0.0   \n",
       "1             1         14.0    0.5      0.5        1.00           0.0   \n",
       "2             1          4.5    0.5      0.5        0.00           0.0   \n",
       "3             2          3.5    0.5      0.5        0.00           0.0   \n",
       "4             2         52.0    0.0      0.5        0.00           0.0   \n",
       "\n",
       "   improvement_surcharge  total_amount  congestion_surcharge  pickup_day  \n",
       "0                    0.3          9.95                   NaN  2019-01-01  \n",
       "1                    0.3         16.30                   NaN  2019-01-01  \n",
       "2                    0.3          5.80                   NaN  2018-12-21  \n",
       "3                    0.3          7.55                   NaN  2018-11-28  \n",
       "4                    0.3         55.55                   NaN  2018-11-28  "
      ]
     },
     "execution_count": 142,
     "metadata": {},
     "output_type": "execute_result"
    }
   ],
   "source": [
    "df_unpersisted.head()"
   ]
  },
  {
   "cell_type": "code",
   "execution_count": 144,
   "id": "00e5ff7a",
   "metadata": {},
   "outputs": [
    {
     "data": {
      "text/plain": [
       "6.200210094451904"
      ]
     },
     "execution_count": 144,
     "metadata": {},
     "output_type": "execute_result"
    }
   ],
   "source": [
    "light_benchmark(lambda: df_unpersisted.groupby('pickup_day').fare_amount.sum().compute())"
   ]
  },
  {
   "cell_type": "code",
   "execution_count": 145,
   "id": "bba066d0",
   "metadata": {},
   "outputs": [],
   "source": [
    "df_unpersisted2 = df_unpersisted.set_index(\"pickup_day\")"
   ]
  },
  {
   "cell_type": "code",
   "execution_count": 146,
   "id": "f3a76fc6",
   "metadata": {},
   "outputs": [
    {
     "data": {
      "text/plain": [
       "41"
      ]
     },
     "execution_count": 146,
     "metadata": {},
     "output_type": "execute_result"
    }
   ],
   "source": [
    "df_unpersisted2.npartitions"
   ]
  },
  {
   "cell_type": "code",
   "execution_count": 148,
   "id": "ab7b9668",
   "metadata": {},
   "outputs": [
    {
     "data": {
      "text/plain": [
       "7.9316301345825195"
      ]
     },
     "execution_count": 148,
     "metadata": {},
     "output_type": "execute_result"
    }
   ],
   "source": [
    "light_benchmark(lambda: df_unpersisted2.groupby('pickup_day').fare_amount.sum().compute())"
   ]
  },
  {
   "cell_type": "code",
   "execution_count": null,
   "id": "4e525e68",
   "metadata": {},
   "outputs": [],
   "source": []
  }
 ],
 "metadata": {
  "kernelspec": {
   "display_name": "firstEnv",
   "language": "python",
   "name": "firstenv"
  },
  "language_info": {
   "codemirror_mode": {
    "name": "ipython",
    "version": 3
   },
   "file_extension": ".py",
   "mimetype": "text/x-python",
   "name": "python",
   "nbconvert_exporter": "python",
   "pygments_lexer": "ipython3",
   "version": "3.7.5"
  }
 },
 "nbformat": 4,
 "nbformat_minor": 5
}
